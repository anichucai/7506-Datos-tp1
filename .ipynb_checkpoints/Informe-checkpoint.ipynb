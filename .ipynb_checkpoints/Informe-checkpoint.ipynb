{
 "cells": [
  {
   "cell_type": "markdown",
   "metadata": {},
   "source": [
    "# 75.06/95.58 Organización de Datos\n",
    "# Análisis exploratorio: Real or Not? NLP with Disaster Tweets"
   ]
  },
  {
   "cell_type": "markdown",
   "metadata": {},
   "source": [
    "### Carga de librerías"
   ]
  },
  {
   "cell_type": "code",
   "execution_count": 1,
   "metadata": {},
   "outputs": [],
   "source": [
    "import pandas as pd\n",
    "\n",
    "import numpy as np\n",
    "import datetime as dt\n",
    "\n",
    "import matplotlib\n",
    "import matplotlib.pyplot as plt\n",
    "import seaborn as sns\n",
    "from wordcloud import WordCloud, STOPWORDS #conda install -c conda-forge wordcloud \n",
    "from  imageio import imread\n",
    "import nltk, os, re, string, collections\n",
    "from nltk.util import ngrams\n",
    "from nltk.corpus import stopwords\n",
    "import string\n",
    "import squarify # pip install squarify\n",
    "from PIL import Image\n",
    "import multidict as multidict #pip install multidict\n",
    "from pywaffle import Waffle #pip install pywaffle\n",
    "import itertools\n",
    "import csvtomd\n",
    "import re\n",
    "%matplotlib inline"
   ]
  },
  {
   "cell_type": "markdown",
   "metadata": {},
   "source": [
    "### Carga de datos\n",
    "Debido a que se trabajara con grandes cantidades de data, se definió convenientemente los tipos de datos de los datos pasados por archivo para no sobrecargar al parser de los archivos csv y ahorrar espacio de memoria."
   ]
  },
  {
   "cell_type": "markdown",
   "metadata": {},
   "source": [
    "#### Archivo sample"
   ]
  },
  {
   "cell_type": "code",
   "execution_count": 2,
   "metadata": {
    "scrolled": true
   },
   "outputs": [],
   "source": [
    "sample = pd.read_csv(\"sample_submission.csv\")\n",
    "# Se observa que es un data frame que sólo contiene informacion sobre los ids"
   ]
  },
  {
   "cell_type": "markdown",
   "metadata": {},
   "source": [
    "#### Archivo test"
   ]
  },
  {
   "cell_type": "code",
   "execution_count": 3,
   "metadata": {},
   "outputs": [],
   "source": [
    "dtype_test = {\"id\": np.int32, \"keyword\": \"category\"}\n",
    "test = pd.read_csv(\"test.csv\", dtype = dtype_test)"
   ]
  },
  {
   "cell_type": "markdown",
   "metadata": {},
   "source": [
    "#### Archivo train"
   ]
  },
  {
   "cell_type": "code",
   "execution_count": 4,
   "metadata": {},
   "outputs": [],
   "source": [
    "dtype_train = {\"id\": np.int32, \"keyword\": \"category\", \"target\" : bool}\n",
    "train = pd.read_csv(\"train.csv\", dtype = dtype_train, encoding='UTF_8')"
   ]
  },
  {
   "cell_type": "markdown",
   "metadata": {},
   "source": [
    "# Limpieza de datos"
   ]
  },
  {
   "cell_type": "code",
   "execution_count": 5,
   "metadata": {},
   "outputs": [
    {
     "name": "stdout",
     "output_type": "stream",
     "text": [
      "<class 'pandas.core.frame.DataFrame'>\n",
      "RangeIndex: 7613 entries, 0 to 7612\n",
      "Data columns (total 5 columns):\n",
      " #   Column    Non-Null Count  Dtype   \n",
      "---  ------    --------------  -----   \n",
      " 0   id        7613 non-null   int32   \n",
      " 1   keyword   7552 non-null   category\n",
      " 2   location  5080 non-null   object  \n",
      " 3   text      7613 non-null   object  \n",
      " 4   target    7613 non-null   bool    \n",
      "dtypes: bool(1), category(1), int32(1), object(2)\n",
      "memory usage: 172.8+ KB\n"
     ]
    }
   ],
   "source": [
    "train.info()"
   ]
  },
  {
   "cell_type": "code",
   "execution_count": 6,
   "metadata": {},
   "outputs": [
    {
     "data": {
      "text/plain": [
       "id             0\n",
       "keyword       61\n",
       "location    2533\n",
       "text           0\n",
       "target         0\n",
       "dtype: int64"
      ]
     },
     "execution_count": 6,
     "metadata": {},
     "output_type": "execute_result"
    }
   ],
   "source": [
    "#vemos cuantos nulos hay por columna\n",
    "train.isnull().sum()"
   ]
  },
  {
   "cell_type": "code",
   "execution_count": 7,
   "metadata": {},
   "outputs": [
    {
     "data": {
      "text/plain": [
       "location    33.272035\n",
       "keyword      0.801261\n",
       "target       0.000000\n",
       "text         0.000000\n",
       "id           0.000000\n",
       "dtype: float64"
      ]
     },
     "execution_count": 7,
     "metadata": {},
     "output_type": "execute_result"
    }
   ],
   "source": [
    "#porcentaje de datos faltantes\n",
    "((train.isnull().sum() / len(train))*100).sort_values(ascending=False)"
   ]
  },
  {
   "cell_type": "markdown",
   "metadata": {},
   "source": [
    "## 1. Limpieza campo 'keyword'"
   ]
  },
  {
   "cell_type": "code",
   "execution_count": 8,
   "metadata": {},
   "outputs": [
    {
     "data": {
      "text/plain": [
       "fatalities               45\n",
       "deluge                   42\n",
       "armageddon               42\n",
       "body%20bags              41\n",
       "sinking                  41\n",
       "                         ..\n",
       "forest%20fire            19\n",
       "epicentre                12\n",
       "threat                   11\n",
       "inundation               10\n",
       "radiation%20emergency     9\n",
       "Name: keyword, Length: 221, dtype: int64"
      ]
     },
     "execution_count": 8,
     "metadata": {},
     "output_type": "execute_result"
    }
   ],
   "source": [
    "#analizo los valores que llegan en 'keyword'\n",
    "train.keyword.value_counts()"
   ]
  },
  {
   "cell_type": "code",
   "execution_count": 9,
   "metadata": {},
   "outputs": [
    {
     "data": {
      "text/plain": [
       "array(['ablaze', 'accident', 'aftershock', 'airplane%20accident',\n",
       "       'ambulance', 'annihilated', 'annihilation', 'apocalypse',\n",
       "       'armageddon', 'army', 'arson', 'arsonist', 'attack', 'attacked',\n",
       "       'avalanche', 'battle', 'bioterror', 'bioterrorism', 'blaze',\n",
       "       'blazing', 'bleeding', 'blew%20up', 'blight', 'blizzard', 'blood',\n",
       "       'bloody', 'blown%20up', 'body%20bag', 'body%20bagging',\n",
       "       'body%20bags', 'bomb', 'bombed', 'bombing', 'bridge%20collapse',\n",
       "       'buildings%20burning', 'buildings%20on%20fire', 'burned',\n",
       "       'burning', 'burning%20buildings', 'bush%20fires', 'casualties',\n",
       "       'casualty', 'catastrophe', 'catastrophic', 'chemical%20emergency',\n",
       "       'cliff%20fall', 'collapse', 'collapsed', 'collide', 'collided',\n",
       "       'collision', 'crash', 'crashed', 'crush', 'crushed', 'curfew',\n",
       "       'cyclone', 'damage', 'danger', 'dead', 'death', 'deaths', 'debris',\n",
       "       'deluge', 'deluged', 'demolish', 'demolished', 'demolition',\n",
       "       'derail', 'derailed', 'derailment', 'desolate', 'desolation',\n",
       "       'destroy', 'destroyed', 'destruction', 'detonate', 'detonation',\n",
       "       'devastated', 'devastation', 'disaster', 'displaced', 'drought',\n",
       "       'drown', 'drowned', 'drowning', 'dust%20storm', 'earthquake',\n",
       "       'electrocute', 'electrocuted', 'emergency', 'emergency%20plan',\n",
       "       'emergency%20services', 'engulfed', 'epicentre', 'evacuate',\n",
       "       'evacuated', 'evacuation', 'explode', 'exploded', 'explosion',\n",
       "       'eyewitness', 'famine', 'fatal', 'fatalities', 'fatality', 'fear',\n",
       "       'fire', 'fire%20truck', 'first%20responders', 'flames',\n",
       "       'flattened', 'flood', 'flooding', 'floods', 'forest%20fire',\n",
       "       'forest%20fires', 'hail', 'hailstorm', 'harm', 'hazard',\n",
       "       'hazardous', 'heat%20wave', 'hellfire', 'hijack', 'hijacker',\n",
       "       'hijacking', 'hostage', 'hostages', 'hurricane', 'injured',\n",
       "       'injuries', 'injury', 'inundated', 'inundation', 'landslide',\n",
       "       'lava', 'lightning', 'loud%20bang', 'mass%20murder',\n",
       "       'mass%20murderer', 'massacre', 'mayhem', 'meltdown', 'military',\n",
       "       'mudslide', 'natural%20disaster', 'nuclear%20disaster',\n",
       "       'nuclear%20reactor', 'obliterate', 'obliterated', 'obliteration',\n",
       "       'oil%20spill', 'outbreak', 'pandemonium', 'panic', 'panicking',\n",
       "       'police', 'quarantine', 'quarantined', 'radiation%20emergency',\n",
       "       'rainstorm', 'razed', 'refugees', 'rescue', 'rescued', 'rescuers',\n",
       "       'riot', 'rioting', 'rubble', 'ruin', 'sandstorm', 'screamed',\n",
       "       'screaming', 'screams', 'seismic', 'sinkhole', 'sinking', 'siren',\n",
       "       'sirens', 'smoke', 'snowstorm', 'storm', 'stretcher',\n",
       "       'structural%20failure', 'suicide%20bomb', 'suicide%20bomber',\n",
       "       'suicide%20bombing', 'sunk', 'survive', 'survived', 'survivors',\n",
       "       'terrorism', 'terrorist', 'threat', 'thunder', 'thunderstorm',\n",
       "       'tornado', 'tragedy', 'trapped', 'trauma', 'traumatised',\n",
       "       'trouble', 'tsunami', 'twister', 'typhoon', 'upheaval',\n",
       "       'violent%20storm', 'volcano', 'war%20zone', 'weapon', 'weapons',\n",
       "       'whirlwind', 'wild%20fires', 'wildfire', 'windstorm', 'wounded',\n",
       "       'wounds', 'wreck', 'wreckage', 'wrecked'], dtype=object)"
      ]
     },
     "execution_count": 9,
     "metadata": {},
     "output_type": "execute_result"
    }
   ],
   "source": [
    "#armo lista con los keywords que ya existen\n",
    "train_sin_keywords_nulos = train.dropna(subset=['keyword'])\n",
    "np.unique(train_sin_keywords_nulos.keyword)"
   ]
  },
  {
   "cell_type": "code",
   "execution_count": 10,
   "metadata": {},
   "outputs": [
    {
     "data": {
      "text/plain": [
       "array(['ablaze', 'accident', 'aftershock', 'airplane accident',\n",
       "       'ambulance', 'annihilated', 'annihilation', 'apocalypse',\n",
       "       'armageddon', 'army', 'arson', 'arsonist', 'attack', 'attacked',\n",
       "       'avalanche', 'battle', 'bioterror', 'bioterrorism', 'blaze',\n",
       "       'blazing', 'bleeding', 'blew up', 'blight', 'blizzard', 'blood',\n",
       "       'bloody', 'blown up', 'body bag', 'body bagging', 'body bags',\n",
       "       'bomb', 'bombed', 'bombing', 'bridge collapse',\n",
       "       'buildings burning', 'buildings on fire', 'burned', 'burning',\n",
       "       'burning buildings', 'bush fires', 'casualties', 'casualty',\n",
       "       'catastrophe', 'catastrophic', 'chemical emergency', 'cliff fall',\n",
       "       'collapse', 'collapsed', 'collide', 'collided', 'collision',\n",
       "       'crash', 'crashed', 'crush', 'crushed', 'curfew', 'cyclone',\n",
       "       'damage', 'danger', 'dead', 'death', 'deaths', 'debris', 'deluge',\n",
       "       'deluged', 'demolish', 'demolished', 'demolition', 'derail',\n",
       "       'derailed', 'derailment', 'desolate', 'desolation', 'destroy',\n",
       "       'destroyed', 'destruction', 'detonate', 'detonation', 'devastated',\n",
       "       'devastation', 'disaster', 'displaced', 'drought', 'drown',\n",
       "       'drowned', 'drowning', 'dust storm', 'earthquake', 'electrocute',\n",
       "       'electrocuted', 'emergency', 'emergency plan',\n",
       "       'emergency services', 'engulfed', 'epicentre', 'evacuate',\n",
       "       'evacuated', 'evacuation', 'explode', 'exploded', 'explosion',\n",
       "       'eyewitness', 'famine', 'fatal', 'fatalities', 'fatality', 'fear',\n",
       "       'fire', 'fire truck', 'first responders', 'flames', 'flattened',\n",
       "       'flood', 'flooding', 'floods', 'forest fire', 'forest fires',\n",
       "       'hail', 'hailstorm', 'harm', 'hazard', 'hazardous', 'heat wave',\n",
       "       'hellfire', 'hijack', 'hijacker', 'hijacking', 'hostage',\n",
       "       'hostages', 'hurricane', 'injured', 'injuries', 'injury',\n",
       "       'inundated', 'inundation', 'landslide', 'lava', 'lightning',\n",
       "       'loud bang', 'mass murder', 'mass murderer', 'massacre', 'mayhem',\n",
       "       'meltdown', 'military', 'mudslide', 'natural disaster',\n",
       "       'nuclear disaster', 'nuclear reactor', 'obliterate', 'obliterated',\n",
       "       'obliteration', 'oil spill', 'outbreak', 'pandemonium', 'panic',\n",
       "       'panicking', 'police', 'quarantine', 'quarantined',\n",
       "       'radiation emergency', 'rainstorm', 'razed', 'refugees', 'rescue',\n",
       "       'rescued', 'rescuers', 'riot', 'rioting', 'rubble', 'ruin',\n",
       "       'sandstorm', 'screamed', 'screaming', 'screams', 'seismic',\n",
       "       'sinkhole', 'sinking', 'siren', 'sirens', 'smoke', 'snowstorm',\n",
       "       'storm', 'stretcher', 'structural failure', 'suicide bomb',\n",
       "       'suicide bomber', 'suicide bombing', 'sunk', 'survive', 'survived',\n",
       "       'survivors', 'terrorism', 'terrorist', 'threat', 'thunder',\n",
       "       'thunderstorm', 'tornado', 'tragedy', 'trapped', 'trauma',\n",
       "       'traumatised', 'trouble', 'tsunami', 'twister', 'typhoon',\n",
       "       'upheaval', 'violent storm', 'volcano', 'war zone', 'weapon',\n",
       "       'weapons', 'whirlwind', 'wild fires', 'wildfire', 'windstorm',\n",
       "       'wounded', 'wounds', 'wreck', 'wreckage', 'wrecked'], dtype=object)"
      ]
     },
     "execution_count": 10,
     "metadata": {},
     "output_type": "execute_result"
    }
   ],
   "source": [
    "#limpio los que tienen \"%20\", parece que deberia ir un espacio ahi\n",
    "train[\"keyword\"] = train[\"keyword\"].str.replace('%20',' ')\n",
    "train_sin_keywords_nulos = train.dropna(subset=['keyword'])\n",
    "keywords = np.unique(train_sin_keywords_nulos.keyword)\n",
    "keywords"
   ]
  },
  {
   "cell_type": "code",
   "execution_count": 11,
   "metadata": {},
   "outputs": [
    {
     "data": {
      "text/html": [
       "<div>\n",
       "<style scoped>\n",
       "    .dataframe tbody tr th:only-of-type {\n",
       "        vertical-align: middle;\n",
       "    }\n",
       "\n",
       "    .dataframe tbody tr th {\n",
       "        vertical-align: top;\n",
       "    }\n",
       "\n",
       "    .dataframe thead th {\n",
       "        text-align: right;\n",
       "    }\n",
       "</style>\n",
       "<table border=\"1\" class=\"dataframe\">\n",
       "  <thead>\n",
       "    <tr style=\"text-align: right;\">\n",
       "      <th></th>\n",
       "      <th>id</th>\n",
       "      <th>keyword</th>\n",
       "      <th>location</th>\n",
       "      <th>text</th>\n",
       "      <th>target</th>\n",
       "    </tr>\n",
       "  </thead>\n",
       "  <tbody>\n",
       "    <tr>\n",
       "      <th>0</th>\n",
       "      <td>1</td>\n",
       "      <td>NaN</td>\n",
       "      <td>NaN</td>\n",
       "      <td>Our Deeds are the Reason of this #earthquake M...</td>\n",
       "      <td>True</td>\n",
       "    </tr>\n",
       "    <tr>\n",
       "      <th>1</th>\n",
       "      <td>4</td>\n",
       "      <td>NaN</td>\n",
       "      <td>NaN</td>\n",
       "      <td>Forest fire near La Ronge Sask. Canada</td>\n",
       "      <td>True</td>\n",
       "    </tr>\n",
       "    <tr>\n",
       "      <th>2</th>\n",
       "      <td>5</td>\n",
       "      <td>NaN</td>\n",
       "      <td>NaN</td>\n",
       "      <td>All residents asked to 'shelter in place' are ...</td>\n",
       "      <td>True</td>\n",
       "    </tr>\n",
       "    <tr>\n",
       "      <th>3</th>\n",
       "      <td>6</td>\n",
       "      <td>NaN</td>\n",
       "      <td>NaN</td>\n",
       "      <td>13,000 people receive #wildfires evacuation or...</td>\n",
       "      <td>True</td>\n",
       "    </tr>\n",
       "    <tr>\n",
       "      <th>4</th>\n",
       "      <td>7</td>\n",
       "      <td>NaN</td>\n",
       "      <td>NaN</td>\n",
       "      <td>Just got sent this photo from Ruby #Alaska as ...</td>\n",
       "      <td>True</td>\n",
       "    </tr>\n",
       "    <tr>\n",
       "      <th>...</th>\n",
       "      <td>...</td>\n",
       "      <td>...</td>\n",
       "      <td>...</td>\n",
       "      <td>...</td>\n",
       "      <td>...</td>\n",
       "    </tr>\n",
       "    <tr>\n",
       "      <th>7608</th>\n",
       "      <td>10869</td>\n",
       "      <td>NaN</td>\n",
       "      <td>NaN</td>\n",
       "      <td>Two giant cranes holding a bridge collapse int...</td>\n",
       "      <td>True</td>\n",
       "    </tr>\n",
       "    <tr>\n",
       "      <th>7609</th>\n",
       "      <td>10870</td>\n",
       "      <td>NaN</td>\n",
       "      <td>NaN</td>\n",
       "      <td>@aria_ahrary @TheTawniest The out of control w...</td>\n",
       "      <td>True</td>\n",
       "    </tr>\n",
       "    <tr>\n",
       "      <th>7610</th>\n",
       "      <td>10871</td>\n",
       "      <td>NaN</td>\n",
       "      <td>NaN</td>\n",
       "      <td>M1.94 [01:04 UTC]?5km S of Volcano Hawaii. htt...</td>\n",
       "      <td>True</td>\n",
       "    </tr>\n",
       "    <tr>\n",
       "      <th>7611</th>\n",
       "      <td>10872</td>\n",
       "      <td>NaN</td>\n",
       "      <td>NaN</td>\n",
       "      <td>Police investigating after an e-bike collided ...</td>\n",
       "      <td>True</td>\n",
       "    </tr>\n",
       "    <tr>\n",
       "      <th>7612</th>\n",
       "      <td>10873</td>\n",
       "      <td>NaN</td>\n",
       "      <td>NaN</td>\n",
       "      <td>The Latest: More Homes Razed by Northern Calif...</td>\n",
       "      <td>True</td>\n",
       "    </tr>\n",
       "  </tbody>\n",
       "</table>\n",
       "<p>61 rows × 5 columns</p>\n",
       "</div>"
      ],
      "text/plain": [
       "         id keyword location  \\\n",
       "0         1     NaN      NaN   \n",
       "1         4     NaN      NaN   \n",
       "2         5     NaN      NaN   \n",
       "3         6     NaN      NaN   \n",
       "4         7     NaN      NaN   \n",
       "...     ...     ...      ...   \n",
       "7608  10869     NaN      NaN   \n",
       "7609  10870     NaN      NaN   \n",
       "7610  10871     NaN      NaN   \n",
       "7611  10872     NaN      NaN   \n",
       "7612  10873     NaN      NaN   \n",
       "\n",
       "                                                   text  target  \n",
       "0     Our Deeds are the Reason of this #earthquake M...    True  \n",
       "1                Forest fire near La Ronge Sask. Canada    True  \n",
       "2     All residents asked to 'shelter in place' are ...    True  \n",
       "3     13,000 people receive #wildfires evacuation or...    True  \n",
       "4     Just got sent this photo from Ruby #Alaska as ...    True  \n",
       "...                                                 ...     ...  \n",
       "7608  Two giant cranes holding a bridge collapse int...    True  \n",
       "7609  @aria_ahrary @TheTawniest The out of control w...    True  \n",
       "7610  M1.94 [01:04 UTC]?5km S of Volcano Hawaii. htt...    True  \n",
       "7611  Police investigating after an e-bike collided ...    True  \n",
       "7612  The Latest: More Homes Razed by Northern Calif...    True  \n",
       "\n",
       "[61 rows x 5 columns]"
      ]
     },
     "execution_count": 11,
     "metadata": {},
     "output_type": "execute_result"
    }
   ],
   "source": [
    "#miro los tweets que vienen sin keyword\n",
    "train[train['keyword'].isnull()]"
   ]
  },
  {
   "cell_type": "code",
   "execution_count": 12,
   "metadata": {},
   "outputs": [],
   "source": [
    "#completo aquellos que en el texto contengan alguna palabra de la lista keywords\n",
    "for keyword in keywords:\n",
    "    train.loc[(train['text'].str.contains(keyword, case=False) & train['keyword'].isnull()), 'keyword'] = keyword"
   ]
  },
  {
   "cell_type": "code",
   "execution_count": 13,
   "metadata": {},
   "outputs": [
    {
     "data": {
      "text/html": [
       "<div>\n",
       "<style scoped>\n",
       "    .dataframe tbody tr th:only-of-type {\n",
       "        vertical-align: middle;\n",
       "    }\n",
       "\n",
       "    .dataframe tbody tr th {\n",
       "        vertical-align: top;\n",
       "    }\n",
       "\n",
       "    .dataframe thead th {\n",
       "        text-align: right;\n",
       "    }\n",
       "</style>\n",
       "<table border=\"1\" class=\"dataframe\">\n",
       "  <thead>\n",
       "    <tr style=\"text-align: right;\">\n",
       "      <th></th>\n",
       "      <th>id</th>\n",
       "      <th>keyword</th>\n",
       "      <th>location</th>\n",
       "      <th>text</th>\n",
       "      <th>target</th>\n",
       "    </tr>\n",
       "  </thead>\n",
       "  <tbody>\n",
       "    <tr>\n",
       "      <th>15</th>\n",
       "      <td>23</td>\n",
       "      <td>NaN</td>\n",
       "      <td>NaN</td>\n",
       "      <td>What's up man?</td>\n",
       "      <td>False</td>\n",
       "    </tr>\n",
       "    <tr>\n",
       "      <th>16</th>\n",
       "      <td>24</td>\n",
       "      <td>NaN</td>\n",
       "      <td>NaN</td>\n",
       "      <td>I love fruits</td>\n",
       "      <td>False</td>\n",
       "    </tr>\n",
       "    <tr>\n",
       "      <th>17</th>\n",
       "      <td>25</td>\n",
       "      <td>NaN</td>\n",
       "      <td>NaN</td>\n",
       "      <td>Summer is lovely</td>\n",
       "      <td>False</td>\n",
       "    </tr>\n",
       "    <tr>\n",
       "      <th>18</th>\n",
       "      <td>26</td>\n",
       "      <td>NaN</td>\n",
       "      <td>NaN</td>\n",
       "      <td>My car is so fast</td>\n",
       "      <td>False</td>\n",
       "    </tr>\n",
       "    <tr>\n",
       "      <th>19</th>\n",
       "      <td>28</td>\n",
       "      <td>NaN</td>\n",
       "      <td>NaN</td>\n",
       "      <td>What a goooooooaaaaaal!!!!!!</td>\n",
       "      <td>False</td>\n",
       "    </tr>\n",
       "    <tr>\n",
       "      <th>20</th>\n",
       "      <td>31</td>\n",
       "      <td>NaN</td>\n",
       "      <td>NaN</td>\n",
       "      <td>this is ridiculous....</td>\n",
       "      <td>False</td>\n",
       "    </tr>\n",
       "    <tr>\n",
       "      <th>21</th>\n",
       "      <td>32</td>\n",
       "      <td>NaN</td>\n",
       "      <td>NaN</td>\n",
       "      <td>London is cool ;)</td>\n",
       "      <td>False</td>\n",
       "    </tr>\n",
       "    <tr>\n",
       "      <th>22</th>\n",
       "      <td>33</td>\n",
       "      <td>NaN</td>\n",
       "      <td>NaN</td>\n",
       "      <td>Love skiing</td>\n",
       "      <td>False</td>\n",
       "    </tr>\n",
       "    <tr>\n",
       "      <th>23</th>\n",
       "      <td>34</td>\n",
       "      <td>NaN</td>\n",
       "      <td>NaN</td>\n",
       "      <td>What a wonderful day!</td>\n",
       "      <td>False</td>\n",
       "    </tr>\n",
       "    <tr>\n",
       "      <th>24</th>\n",
       "      <td>36</td>\n",
       "      <td>NaN</td>\n",
       "      <td>NaN</td>\n",
       "      <td>LOOOOOOL</td>\n",
       "      <td>False</td>\n",
       "    </tr>\n",
       "    <tr>\n",
       "      <th>25</th>\n",
       "      <td>37</td>\n",
       "      <td>NaN</td>\n",
       "      <td>NaN</td>\n",
       "      <td>No way...I can't eat that shit</td>\n",
       "      <td>False</td>\n",
       "    </tr>\n",
       "    <tr>\n",
       "      <th>26</th>\n",
       "      <td>38</td>\n",
       "      <td>NaN</td>\n",
       "      <td>NaN</td>\n",
       "      <td>Was in NYC last week!</td>\n",
       "      <td>False</td>\n",
       "    </tr>\n",
       "    <tr>\n",
       "      <th>27</th>\n",
       "      <td>39</td>\n",
       "      <td>NaN</td>\n",
       "      <td>NaN</td>\n",
       "      <td>Love my girlfriend</td>\n",
       "      <td>False</td>\n",
       "    </tr>\n",
       "    <tr>\n",
       "      <th>28</th>\n",
       "      <td>40</td>\n",
       "      <td>NaN</td>\n",
       "      <td>NaN</td>\n",
       "      <td>Cooool :)</td>\n",
       "      <td>False</td>\n",
       "    </tr>\n",
       "    <tr>\n",
       "      <th>29</th>\n",
       "      <td>41</td>\n",
       "      <td>NaN</td>\n",
       "      <td>NaN</td>\n",
       "      <td>Do you like pasta?</td>\n",
       "      <td>False</td>\n",
       "    </tr>\n",
       "    <tr>\n",
       "      <th>30</th>\n",
       "      <td>44</td>\n",
       "      <td>NaN</td>\n",
       "      <td>NaN</td>\n",
       "      <td>The end!</td>\n",
       "      <td>False</td>\n",
       "    </tr>\n",
       "  </tbody>\n",
       "</table>\n",
       "</div>"
      ],
      "text/plain": [
       "    id keyword location                            text  target\n",
       "15  23     NaN      NaN                  What's up man?   False\n",
       "16  24     NaN      NaN                   I love fruits   False\n",
       "17  25     NaN      NaN                Summer is lovely   False\n",
       "18  26     NaN      NaN               My car is so fast   False\n",
       "19  28     NaN      NaN    What a goooooooaaaaaal!!!!!!   False\n",
       "20  31     NaN      NaN          this is ridiculous....   False\n",
       "21  32     NaN      NaN               London is cool ;)   False\n",
       "22  33     NaN      NaN                     Love skiing   False\n",
       "23  34     NaN      NaN           What a wonderful day!   False\n",
       "24  36     NaN      NaN                        LOOOOOOL   False\n",
       "25  37     NaN      NaN  No way...I can't eat that shit   False\n",
       "26  38     NaN      NaN           Was in NYC last week!   False\n",
       "27  39     NaN      NaN              Love my girlfriend   False\n",
       "28  40     NaN      NaN                       Cooool :)   False\n",
       "29  41     NaN      NaN              Do you like pasta?   False\n",
       "30  44     NaN      NaN                        The end!   False"
      ]
     },
     "execution_count": 13,
     "metadata": {},
     "output_type": "execute_result"
    }
   ],
   "source": [
    "#no se si convendria hacer fillna o no\n",
    "train[train['keyword'].isnull()]\n",
    "#df.fillna(value={'keyword': ''})"
   ]
  },
  {
   "cell_type": "code",
   "execution_count": 14,
   "metadata": {},
   "outputs": [
    {
     "data": {
      "text/plain": [
       "fatalities             45\n",
       "fire                   44\n",
       "armageddon             42\n",
       "earthquake             42\n",
       "siren                  42\n",
       "                       ..\n",
       "forest fire            19\n",
       "epicentre              12\n",
       "threat                 11\n",
       "inundation             10\n",
       "radiation emergency     9\n",
       "Name: keyword, Length: 221, dtype: int64"
      ]
     },
     "execution_count": 14,
     "metadata": {},
     "output_type": "execute_result"
    }
   ],
   "source": [
    "train.keyword.value_counts()"
   ]
  },
  {
   "cell_type": "code",
   "execution_count": 15,
   "metadata": {},
   "outputs": [
    {
     "data": {
      "text/plain": [
       "16"
      ]
     },
     "execution_count": 15,
     "metadata": {},
     "output_type": "execute_result"
    }
   ],
   "source": [
    "train.keyword.isnull().sum()"
   ]
  },
  {
   "cell_type": "markdown",
   "metadata": {},
   "source": [
    "## Limpieza campo 'location'"
   ]
  },
  {
   "cell_type": "code",
   "execution_count": 16,
   "metadata": {},
   "outputs": [
    {
     "data": {
      "text/plain": [
       "5080"
      ]
     },
     "execution_count": 16,
     "metadata": {},
     "output_type": "execute_result"
    }
   ],
   "source": [
    "len(train['location']) - train['location'].isnull().sum()"
   ]
  },
  {
   "cell_type": "code",
   "execution_count": 17,
   "metadata": {},
   "outputs": [
    {
     "data": {
      "text/plain": [
       "USA                  104\n",
       "New York              71\n",
       "United States         50\n",
       "London                45\n",
       "Canada                29\n",
       "                    ... \n",
       "dundalk ireland        1\n",
       "Everett, WA            1\n",
       "Jammu and Kashmir      1\n",
       "Idaho                  1\n",
       "Patra-Greece.          1\n",
       "Name: location, Length: 3341, dtype: int64"
      ]
     },
     "execution_count": 17,
     "metadata": {},
     "output_type": "execute_result"
    }
   ],
   "source": [
    "#Veo la calidad de los que hay\n",
    "#pd.set_option('display.max_rows', 20)\n",
    "train['location'].value_counts()"
   ]
  },
  {
   "cell_type": "code",
   "execution_count": 18,
   "metadata": {},
   "outputs": [],
   "source": [
    "#Creo que no tiene mucho sentido usar esta información más que para algún análisis de la cantidad de tweets con \n",
    "#location..\n",
    "#Lo unico que se me ocurre que no se si tiene mucho sentido es mergear con algun set de datos de ciudades \n",
    "#(sacando los que tengan solo una aparicion)"
   ]
  },
  {
   "cell_type": "markdown",
   "metadata": {},
   "source": [
    "# Análisis de datos"
   ]
  },
  {
   "cell_type": "markdown",
   "metadata": {},
   "source": [
    "## 1. Análisis palabras y caracteres especiales"
   ]
  },
  {
   "cell_type": "markdown",
   "metadata": {},
   "source": [
    "### 1.1 Análisis de distribuciones"
   ]
  },
  {
   "cell_type": "code",
   "execution_count": 19,
   "metadata": {},
   "outputs": [],
   "source": [
    "#Funciones auxiliares\n",
    "stopword = stopwords.words('english')\n",
    "\n",
    "def stop(text):\n",
    "    return [w for w in text.split() if w in stopword]\n",
    "def length(text):\n",
    "    return(np.mean([len(w) for w in text.split()]))\n",
    "def punct(text):\n",
    "    return [c for c in text if c in string.punctuation]\n",
    "def title(text):\n",
    "    return [w for w in text.split() if w.istitle()]\n",
    "def upper_list(text):\n",
    "    return [w for w in text.split() if w.isupper()]\n",
    "def lower_list(text):\n",
    "    return [w for w in text.split() if w.islower()]"
   ]
  },
  {
   "cell_type": "markdown",
   "metadata": {},
   "source": [
    "Creo un data frame al que le cálculo ciertas cantidades."
   ]
  },
  {
   "cell_type": "code",
   "execution_count": 20,
   "metadata": {},
   "outputs": [],
   "source": [
    "palabras = train[[\"target\"]].copy()"
   ]
  },
  {
   "cell_type": "code",
   "execution_count": 21,
   "metadata": {},
   "outputs": [],
   "source": [
    "#Agrego funcion para contar silabas\n",
    "\n",
    "def syllables(text):\n",
    "    count = 0\n",
    "    vowels = 'aeiouy'\n",
    "    for word in text:\n",
    "        word= word.lower()\n",
    "        if word[0] in vowels:\n",
    "            count +=1\n",
    "        for index in range(1,len(word)):\n",
    "            if word[index] in vowels and word[index-1] not in vowels:\n",
    "                count +=1\n",
    "        if word.endswith('e'):\n",
    "            count -= 1\n",
    "        if word.endswith('le'):\n",
    "            count+=1\n",
    "        if count == 0:\n",
    "            count +=1\n",
    "    return count"
   ]
  },
  {
   "cell_type": "code",
   "execution_count": 22,
   "metadata": {},
   "outputs": [],
   "source": [
    "# Saco los links\n",
    "\n",
    "def quitar_link_twitter(tweet):\n",
    "    res = []\n",
    "    for w in tweet.split(\" \"):\n",
    "        if ((\"http\" not in w) and (\"https\" not in w)):\n",
    "            res.append(w)\n",
    "    return (\" \").join(res)\n",
    "\n",
    "\n",
    "palabras['text'] = train['text'].apply(lambda x: quitar_link_twitter(x))"
   ]
  },
  {
   "cell_type": "code",
   "execution_count": 23,
   "metadata": {},
   "outputs": [],
   "source": [
    "# Saco menciones\n",
    "\n",
    "def quitar_mencion_twitter(tweet):\n",
    "    res = []\n",
    "    for w in tweet.split(\" \"):\n",
    "        if(\"@\" not in w):\n",
    "            res.append(w)\n",
    "    return (\" \").join(res)\n",
    "\n",
    "\n",
    "palabras['text'] = train['text'].apply(lambda x: quitar_link_twitter(x))"
   ]
  },
  {
   "cell_type": "code",
   "execution_count": 24,
   "metadata": {},
   "outputs": [
    {
     "name": "stderr",
     "output_type": "stream",
     "text": [
      "/home/anichu/Programs/anaconda3/lib/python3.6/site-packages/numpy/core/fromnumeric.py:3335: RuntimeWarning: Mean of empty slice.\n",
      "  out=out, **kwargs)\n"
     ]
    }
   ],
   "source": [
    "palabras_list = [palabras]\n",
    "\n",
    "for df in palabras_list:\n",
    "    # Número de palabras usadas\n",
    "    df['#palabras'] = df['text'].apply(lambda x: len(x.split()))\n",
    "\n",
    "    # Número de palabras únicas\n",
    "    df['#palabras_unicas'] =  df['text'].apply(lambda x: len(set(x.split())))\n",
    "\n",
    "    # Número de caracteres\n",
    "    df['#caracteres'] =  df['text'].apply(lambda x: len(x))\n",
    "\n",
    "    # Número de stopwords\n",
    "    df['#stopwords'] = df['text'].apply(lambda x: len(stop(x)))\n",
    "    \n",
    "    # Número de caracteres de puntuación\n",
    "    df['#putuacion'] = df['text'].apply(lambda x: len(punct(x)))\n",
    "    \n",
    "    # Número de palabras Capitalizadas\n",
    "    df['#capitalize'] = df['text'].apply(lambda x: len(title(x)))\n",
    "\n",
    "    # Número de palabras MAYUSCULAS\n",
    "    df['#mayusculas'] = df['text'].apply(lambda x: len(upper_list(x)))\n",
    "        \n",
    "    # Número de silabas\n",
    "    df['#silabas'] = df['text'].apply(lambda x: syllables(x))\n",
    "    \n",
    "    # Promedio de longitud del tweet\n",
    "    df['promedio_len_word'] = df['text'].apply(lambda x: length(x))"
   ]
  },
  {
   "cell_type": "code",
   "execution_count": 25,
   "metadata": {
    "scrolled": false
   },
   "outputs": [
    {
     "data": {
      "text/html": [
       "<div>\n",
       "<style scoped>\n",
       "    .dataframe tbody tr th:only-of-type {\n",
       "        vertical-align: middle;\n",
       "    }\n",
       "\n",
       "    .dataframe tbody tr th {\n",
       "        vertical-align: top;\n",
       "    }\n",
       "\n",
       "    .dataframe thead th {\n",
       "        text-align: right;\n",
       "    }\n",
       "</style>\n",
       "<table border=\"1\" class=\"dataframe\">\n",
       "  <thead>\n",
       "    <tr style=\"text-align: right;\">\n",
       "      <th></th>\n",
       "      <th>target</th>\n",
       "      <th>text</th>\n",
       "      <th>#palabras</th>\n",
       "      <th>#palabras_unicas</th>\n",
       "      <th>#caracteres</th>\n",
       "      <th>#stopwords</th>\n",
       "      <th>#putuacion</th>\n",
       "      <th>#capitalize</th>\n",
       "      <th>#mayusculas</th>\n",
       "      <th>#silabas</th>\n",
       "      <th>promedio_len_word</th>\n",
       "    </tr>\n",
       "  </thead>\n",
       "  <tbody>\n",
       "    <tr>\n",
       "      <th>0</th>\n",
       "      <td>True</td>\n",
       "      <td>Our Deeds are the Reason of this #earthquake M...</td>\n",
       "      <td>13</td>\n",
       "      <td>13</td>\n",
       "      <td>69</td>\n",
       "      <td>5</td>\n",
       "      <td>1</td>\n",
       "      <td>5</td>\n",
       "      <td>1</td>\n",
       "      <td>18</td>\n",
       "      <td>4.384615</td>\n",
       "    </tr>\n",
       "    <tr>\n",
       "      <th>1</th>\n",
       "      <td>True</td>\n",
       "      <td>Forest fire near La Ronge Sask. Canada</td>\n",
       "      <td>7</td>\n",
       "      <td>7</td>\n",
       "      <td>38</td>\n",
       "      <td>0</td>\n",
       "      <td>1</td>\n",
       "      <td>5</td>\n",
       "      <td>0</td>\n",
       "      <td>10</td>\n",
       "      <td>4.571429</td>\n",
       "    </tr>\n",
       "    <tr>\n",
       "      <th>2</th>\n",
       "      <td>True</td>\n",
       "      <td>All residents asked to 'shelter in place' are ...</td>\n",
       "      <td>22</td>\n",
       "      <td>20</td>\n",
       "      <td>133</td>\n",
       "      <td>9</td>\n",
       "      <td>3</td>\n",
       "      <td>2</td>\n",
       "      <td>0</td>\n",
       "      <td>26</td>\n",
       "      <td>5.090909</td>\n",
       "    </tr>\n",
       "  </tbody>\n",
       "</table>\n",
       "</div>"
      ],
      "text/plain": [
       "   target                                               text  #palabras  \\\n",
       "0    True  Our Deeds are the Reason of this #earthquake M...         13   \n",
       "1    True             Forest fire near La Ronge Sask. Canada          7   \n",
       "2    True  All residents asked to 'shelter in place' are ...         22   \n",
       "\n",
       "   #palabras_unicas  #caracteres  #stopwords  #putuacion  #capitalize  \\\n",
       "0                13           69           5           1            5   \n",
       "1                 7           38           0           1            5   \n",
       "2                20          133           9           3            2   \n",
       "\n",
       "   #mayusculas  #silabas  promedio_len_word  \n",
       "0            1        18           4.384615  \n",
       "1            0        10           4.571429  \n",
       "2            0        26           5.090909  "
      ]
     },
     "execution_count": 25,
     "metadata": {},
     "output_type": "execute_result"
    }
   ],
   "source": [
    "palabras.head(3)"
   ]
  },
  {
   "cell_type": "code",
   "execution_count": 26,
   "metadata": {},
   "outputs": [],
   "source": [
    "palabras_col = palabras.columns[2:2+8]\n",
    "palabras_nombre_col = [\"Cantidad de palabras\", \"Cantidad de palabras únicas\", \"Cantidad de caracteres\",\\\n",
    "                       \"Cantidad de stopwords\",\"Cantidad de signos de puntuación\",\"Cantidad de palabras capitalizadas\",\\\n",
    "                       \"Cantidad de palabras en mayusculas\",\"Cantidad de sílabas\"]"
   ]
  },
  {
   "cell_type": "markdown",
   "metadata": {},
   "source": [
    "Gráfico de distribuciones de data sobre los tweets"
   ]
  },
  {
   "cell_type": "code",
   "execution_count": 29,
   "metadata": {},
   "outputs": [
    {
     "data": {
      "image/png": "[encoded data removed]",
      "text/plain": [
       "<Figure size 1080x1296 with 8 Axes>"
      ]
     },
     "metadata": {
      "needs_background": "light"
     },
     "output_type": "display_data"
    }
   ],
   "source": [
    "fig, axes = plt.subplots(4,2, figsize = (15,18))\n",
    "plt.subplots_adjust( wspace =0.4, hspace = 0.4)\n",
    "plt.suptitle(\"Distribuciones en los tweets\", fontsize =20, fontweight = 'bold')\n",
    "\n",
    "for i in range(len(palabras_col)):\n",
    "\n",
    "    ax = plt.subplot(4,2,i+1)\n",
    "    \n",
    "    mean=palabras[palabras_col[i]].mean()\n",
    "    median=palabras[palabras_col[i]].median()\n",
    "    mode=palabras[palabras_col[i]].mode()[0]\n",
    "\n",
    "    ax.axvline(mean, color='r', linestyle='--')\n",
    "    ax.axvline(median, color='g', linestyle='-')\n",
    "    ax.axvline(mode, color='b', linestyle='-')\n",
    "\n",
    "    sns.distplot(palabras[palabras_col[i]], axlabel = palabras_nombre_col[i])\n",
    "    \n",
    "    plt.legend({'Promedio':mean,'Mediana':median, 'Moda':mode})\n",
    "    \n",
    "\n",
    "plt.show()"
   ]
  },
  {
   "cell_type": "markdown",
   "metadata": {},
   "source": [
    "Gráfico boxplot de data sobre los tweets"
   ]
  },
  {
   "cell_type": "code",
   "execution_count": null,
   "metadata": {},
   "outputs": [],
   "source": []
  },
  {
   "cell_type": "markdown",
   "metadata": {},
   "source": [
    "Gráfico de distribuciones de data sobre los tweets según veracidad"
   ]
  },
  {
   "cell_type": "code",
   "execution_count": null,
   "metadata": {},
   "outputs": [],
   "source": [
    "fig, axes = plt.subplots(4,2, figsize = (15,18))\n",
    "plt.subplots_adjust(wspace =0.4, hspace = 0.4)\n",
    "plt.suptitle(\"Distribución de densidad de palabras en tweets verdaderos y falsos\", fontsize =20, fontweight = 'bold', y=0.92)\n",
    "\n",
    "for i in range(len(palabras_col)):\n",
    "    plt.subplot(4,2,i+1)\n",
    "    sns.distplot(palabras.loc[palabras.target==False][palabras_col[i]], color=\"red\", label='Tweet Falso')\n",
    "    sns.distplot(palabras.loc[palabras.target==True][palabras_col[i]], axlabel = palabras_nombre_col[i], color=\"green\", label = 'Tweet Verdadero')\n",
    "    plt.legend()\n",
    "\n",
    "plt.show()"
   ]
  },
  {
   "cell_type": "markdown",
   "metadata": {},
   "source": [
    "Analizo las distribuciones para cada los tweets reales y falsos por separado"
   ]
  },
  {
   "cell_type": "code",
   "execution_count": null,
   "metadata": {},
   "outputs": [],
   "source": [
    "fig, axes = plt.subplots(4,2, figsize = (15,18))\n",
    "plt.subplots_adjust( wspace =0.4, hspace = 0.4)\n",
    "plt.suptitle(\"Distribuciones cuantitativas en los tweets\\nsegún veracidad\", fontsize =20, fontweight = 'bold',y=0.94)\n",
    "\n",
    "sns.set(style=\"ticks\", palette=\"pastel\")\n",
    "\n",
    "for i in range(len(palabras_col)):\n",
    "\n",
    "    plt.subplot(4,2,i+1)\n",
    "    g = sns.boxplot(x=\"target\", y=palabras_col[i], palette=[\"r\", \"g\"],\n",
    "            data=palabras)\n",
    "    sns.despine(offset=10, trim=True)\n",
    "    g.set(ylabel= palabras_nombre_col[i])\n",
    "    g.set(xlabel= \"Tweet\")\n",
    "    g.set(xticklabels= [\"Falso\", \"Real\"])\n",
    "\n",
    "plt.show()"
   ]
  },
  {
   "cell_type": "markdown",
   "metadata": {},
   "source": [
    "### 1.2 Wordclouds: lo más usual en cada categoría"
   ]
  },
  {
   "cell_type": "code",
   "execution_count": null,
   "metadata": {},
   "outputs": [],
   "source": [
    "palabras_nombre_col = [\"Todas las palabras\", \"Palabras únicas\", \"palabras minúsculas\",\\\n",
    "                       \"Palabras MAYUSCULAS\",\"Palabras Capitalizadas\"]\n",
    "string_palabras = [\"\"]*len(palabras_nombre_col)"
   ]
  },
  {
   "cell_type": "code",
   "execution_count": null,
   "metadata": {},
   "outputs": [],
   "source": [
    "palabras = train[[\"target\"]].copy()\n",
    "palabras['text'] = train['text'].apply(lambda x: quitar_mencion_twitter(quitar_link_twitter(x)))\n",
    "\n",
    "palbras_list = [palabras]\n",
    "\n",
    "for tweet in palabras['text']:\n",
    "    \n",
    "    text =  tweet.split()\n",
    "        \n",
    "    # palabras Capitalizadas\n",
    "    string_palabras[4] += (\" \").join(title(tweet)) + \" \"\n",
    "    \n",
    "    # palabras MAYUSCULA\n",
    "    string_palabras[3] += (\" \").join(upper_list(tweet)) + \" \"\n",
    "    \n",
    "    # Palabras minusculas\n",
    "    string_palabras[2] +=  (\" \").join(lower_list(tweet)) + \" \"\n",
    "    \n",
    "    # Aplico lower case y saco stopwords\n",
    "    tweet = tweet.lower()\n",
    "\n",
    "    # Palabras\n",
    "    string_palabras[0] += tweet + \" \"\n",
    "\n",
    "    # palabras únicas\n",
    "    string_palabras[1] += (\" \").join(set(text)) + \" \"\n"
   ]
  },
  {
   "cell_type": "code",
   "execution_count": null,
   "metadata": {},
   "outputs": [],
   "source": [
    "tweet_images = [\"T.png\", \"W-2.jpg\",\"E.png\",\"E.png\",\"T.png\"]"
   ]
  },
  {
   "cell_type": "code",
   "execution_count": null,
   "metadata": {},
   "outputs": [],
   "source": [
    "fig, axes = plt.subplots(1,5, figsize = (80,50), gridspec_kw={'width_ratios': [1, 1.7, 1, 1, 1]})\n",
    "plt.subplots_adjust(wspace = 0, hspace = 0)\n",
    "plt.suptitle(\"Palabras más ocurrentes\", fontsize = 70, fontweight='bold',y=0.67)\n",
    "\n",
    "sns.set(style=\"ticks\", palette=\"pastel\")\n",
    "\n",
    "for i in range(len(palabras_nombre_col)):\n",
    "    axes[i].set_title(palabras_nombre_col[i], fontsize=60, y=-0.05)\n",
    "    if ((i == 0) | (i == 4)):\n",
    "        axes[i].set_title(palabras_nombre_col[i], fontsize=60, y=-0.11)\n",
    "    if (i == 1):\n",
    "        axes[i].set_title(palabras_nombre_col[i], fontsize=60, y=0.065)\n",
    "    twitter_mask = imread(tweet_images[i])\n",
    "    wordcloud = WordCloud(width =800, height=800,\n",
    "                    background_color ='#FFFFFF', \n",
    "                    min_font_size = 8,\n",
    "                    mask=twitter_mask, collocations=False).generate(string_palabras[i])\n",
    "\n",
    "    axes[i].imshow(wordcloud)\n",
    "    axes[i].axis('off')\n",
    "\n",
    "plt.show()"
   ]
  },
  {
   "cell_type": "markdown",
   "metadata": {},
   "source": [
    "## 2. Análisis carácteres especiales"
   ]
  },
  {
   "cell_type": "code",
   "execution_count": null,
   "metadata": {},
   "outputs": [],
   "source": [
    "# Funciones auxiliares\n",
    "\n",
    "def puntuacion_de_tw(tweet):\n",
    "    res = []\n",
    "    for w in tweet.split():\n",
    "        if(w in string.punctuation):\n",
    "            res.append(w)\n",
    "    return (\" \").join(res)\n",
    "\n",
    "letras = \"q w e r t y u i o a s d f g h j k l z x c v b n m\".split()\n",
    "letras_x3 = [c*3 for c in letras]\n",
    "def tres_letras_de_tw(tweet):\n",
    "    res = []\n",
    "    for w in tweet.split():\n",
    "        w = w.lower()        \n",
    "        for trio in letras_x3:\n",
    "            if(trio in w):\n",
    "                res.append(w)\n",
    "    return (\" \").join(res)\n",
    "\n",
    "punt= \"` ~ ! @ # $ % ^ & * ( ) _ - + = | \\ } ] { [ } \" ' : ; ? / > . < , * / - + . ' \" \"\n",
    "punct_x3 = [c*3 for c in punt]\n",
    "def tres_punct_de_tw(tweet):\n",
    "    res = []\n",
    "    for w in tweet.split():\n",
    "        w = w.lower()        \n",
    "        for trio in punct_x3:\n",
    "            if(trio in w):\n",
    "                res.append(trio)\n",
    "    return (\" \").join(res)\n",
    "\n",
    "emojis=[\":)\",\":(\",\"xd\",\"Xd\",\"XD\",\"Dx\",\"xd\",\"Xd\", \"<3\", \"?)\"]\n",
    "def emojis_de_tw(tweet):\n",
    "    res = []\n",
    "    for w in tweet.split():\n",
    "        if(len(w)<=2):\n",
    "            for e in emojis:\n",
    "                if(e in w):\n",
    "                    res.append(e)\n",
    "    return (\" \").join(res)\n",
    "\n",
    "def cant_puntos_suspensivos_tw(tweet):\n",
    "    cant = 0\n",
    "    for w in tweet.split():\n",
    "        w = w.lower()        \n",
    "        if \"...\" in w:\n",
    "            cant+=1\n",
    "    return cant\n",
    "\n",
    "def cant_signos_de_pregunta_tw(tweet):\n",
    "    cant = 0\n",
    "    for w in tweet.split():\n",
    "        w = w.lower()        \n",
    "        if \"???\" in w:\n",
    "            cant+=1\n",
    "    return cant\n",
    "\n",
    "def cant_signos_de_exclamacion_tw(tweet):\n",
    "    cant = 0\n",
    "    for w in tweet.split():\n",
    "        w = w.lower()        \n",
    "        if \"!!!\" in w:\n",
    "            cant+=1\n",
    "    return cant"
   ]
  },
  {
   "cell_type": "code",
   "execution_count": null,
   "metadata": {},
   "outputs": [],
   "source": [
    "# Creo un dataframe para los caracteres\n",
    "df_caracteres = palabras[[\"text\",'target']].copy() #uso df palabras xq no tiene links"
   ]
  },
  {
   "cell_type": "code",
   "execution_count": null,
   "metadata": {
    "scrolled": false
   },
   "outputs": [],
   "source": [
    "# Agrego columnas a df_caracteres\n",
    "\n",
    "df_caracteres[\"letrasx3\"] = df_caracteres['text'].apply(lambda x: tres_letras_de_tw(x))\n",
    "df_caracteres[\"puntuacion\"] = df_caracteres['text'].apply(lambda x: puntuacion_de_tw(x))\n",
    "df_caracteres[\"punctx3\"] = df_caracteres['text'].apply(lambda x: tres_punct_de_tw(x))\n",
    "df_caracteres[\"cant_punctx3\"] = df_caracteres['punctx3'].apply(lambda x: len(x.split(\" \")))\n",
    "df_caracteres[\"cant...\"] = df_caracteres['text'].apply(lambda x: cant_puntos_suspensivos_tw(x))\n",
    "df_caracteres[\"cant???\"] = df_caracteres['text'].apply(lambda x: cant_signos_de_pregunta_tw(x))\n",
    "df_caracteres[\"cant!!!\"] = df_caracteres['text'].apply(lambda x: cant_signos_de_exclamacion_tw(x))\n",
    "df_caracteres[\"tiene_punt\"] = df_caracteres['puntuacion'].apply(lambda x: x!=\"\")\n",
    "\n",
    "df_caracteres"
   ]
  },
  {
   "cell_type": "code",
   "execution_count": null,
   "metadata": {},
   "outputs": [],
   "source": [
    "# Observo que no hay muchos emojis\n",
    "df_caracteres['text'].apply(lambda x: emojis_de_tw(x)).value_counts()"
   ]
  },
  {
   "cell_type": "markdown",
   "metadata": {},
   "source": [
    "### 2.1 Análsis de cantidad de caracteres especiales."
   ]
  },
  {
   "cell_type": "markdown",
   "metadata": {},
   "source": [
    "Analizo las apariciones de estos caracteres."
   ]
  },
  {
   "cell_type": "code",
   "execution_count": null,
   "metadata": {},
   "outputs": [],
   "source": [
    "dict_punct = {}\n",
    "for s in df_caracteres[df_caracteres[\"puntuacion\"]!=\"\"][\"puntuacion\"]:\n",
    "    if(s==\" \"):\n",
    "        continue\n",
    "    for w in s.split(\" \"):\n",
    "        if w not in dict_punct:\n",
    "            dict_punct[w] = 1\n",
    "        else:\n",
    "            dict_punct[w] +=1"
   ]
  },
  {
   "cell_type": "code",
   "execution_count": null,
   "metadata": {},
   "outputs": [],
   "source": [
    "punct_keys = [k for k in dict_punct.keys()]\n",
    "punct_vals = [v for v in dict_punct.values()]\n",
    "index = [i+1 for i in range(len(punct_keys))]"
   ]
  },
  {
   "cell_type": "code",
   "execution_count": null,
   "metadata": {},
   "outputs": [],
   "source": [
    "# selection sort\n",
    "\n",
    "for i in range(len(punct_vals)): \n",
    "    min_idx = i \n",
    "    for j in range(i+1, len(punct_vals)): \n",
    "        if punct_vals[min_idx] > punct_vals[j]: \n",
    "            min_idx = j \n",
    "    punct_vals[i], punct_vals[min_idx] = punct_vals[min_idx], punct_vals[i]\n",
    "    punct_keys[i], punct_keys[min_idx] = punct_keys[min_idx], punct_keys[i]       "
   ]
  },
  {
   "cell_type": "code",
   "execution_count": null,
   "metadata": {},
   "outputs": [],
   "source": [
    "cant = 10\n",
    "plt.hlines(y=index[cant:], xmin=0, xmax=punct_vals[cant:], color='skyblue')\n",
    "plt.plot(punct_vals[cant:], index[cant:], \"o\", label=punct_vals[cant:])\n",
    " \n",
    "# Add titles and axis names\n",
    "plt.yticks(index[cant:], punct_keys[cant:])\n",
    "plt.title(\"Cantidad de apariciones de\\ntres signos de puntuación seguidos\")\n",
    "plt.xlabel('Cantidad de apariciones')\n",
    "plt.ylabel('')\n",
    "\n",
    "for i in range(len(punct_vals[cant:])):\n",
    "    plt.text(punct_vals[cant:][i]+10, i+10.5, str(punct_vals[cant:][i]), c='r')\n",
    "\n",
    "plt.show()"
   ]
  },
  {
   "cell_type": "code",
   "execution_count": null,
   "metadata": {},
   "outputs": [],
   "source": [
    "df_caracteres[\"tiene_punt\"].value_counts()"
   ]
  },
  {
   "cell_type": "code",
   "execution_count": null,
   "metadata": {},
   "outputs": [],
   "source": [
    "g = sns.catplot(x=\"target\", y=\"tiene_punt\", data=df_caracteres,\n",
    "                height=6, kind=\"bar\", palette=['indianred','g'])\n",
    "g.despine(left=True)\n",
    "g.set(ylabel='Probabilidad de contener algún signo de puntuación', xlabel='Veracidad del tweet')\n",
    "plt.title(\"Probabilidad de un tweet de contener algún signo de puntuación\\nsegún su veracidad\", loc='center', fontsize =14, fontweight = 'bold')\n",
    "\n",
    "plt.show()"
   ]
  },
  {
   "cell_type": "markdown",
   "metadata": {},
   "source": [
    "### 2.2 Análisis de la aparición de carácteres especiels tres veces o más seguidos"
   ]
  },
  {
   "cell_type": "code",
   "execution_count": null,
   "metadata": {},
   "outputs": [],
   "source": [
    "cant_real = df_caracteres[\"punctx3\"][df_caracteres[\"target\"]==True].count()\n",
    "cant_falso = df_caracteres[\"punctx3\"][df_caracteres[\"target\"]==False].count()\n",
    "cant_sin_punt_real = df_caracteres[\"punctx3\"][df_caracteres[\"target\"]==True].value_counts()[0]\n",
    "cant_sin_punt_falso = df_caracteres[\"punctx3\"][df_caracteres[\"target\"]==False].value_counts()[0]\n",
    "\n",
    "division1 = [cant_falso, cant_real]\n",
    "division2 = [cant_sin_punt_falso, cant_falso-cant_sin_punt_falso, cant_sin_punt_real, cant_real-cant_sin_punt_real]"
   ]
  },
  {
   "cell_type": "markdown",
   "metadata": {},
   "source": [
    "Gráfico"
   ]
  },
  {
   "cell_type": "code",
   "execution_count": null,
   "metadata": {},
   "outputs": [],
   "source": [
    "fig, axes = plt.subplots(1,1, figsize = (5,5))\n",
    "\n",
    "# pie exterior\n",
    "plt.pie(division1, radius=1.5, startangle=90, autopct='%1.1f%%',\\\n",
    "        colors =[\"#451200\", \"#064e0a\"], pctdistance=0.8,\\\n",
    "        textprops={'color':\"w\"})\n",
    "\n",
    "# pie interior\n",
    "plt.pie(division2, radius=1.5-0.5, startangle=90, autopct='%1.1f%%',\\\n",
    "        colors=[\"#b02c2c\",\"#f44e4e\",\"#388e3e\",\"#94ce98\"],\\\n",
    "        pctdistance=0.68)\n",
    "\n",
    "# círculo blanco\n",
    "circle = plt.Circle(xy=(0, 0), radius=0.5, facecolor='white')\n",
    "plt.gca().add_artist(circle)\n",
    "\n",
    "\n",
    "# legends\n",
    "colors = [\"#451200\",\"#b02c2c\",\"#f44e4e\",\"#064e0a\",\"#388e3e\",\"#94ce98\"]\n",
    "f = lambda m,c: plt.plot([],[],marker=m, color=c, ls=\"none\")[0]\n",
    "handles = [f(\"s\", colors[i]) for i in range(len(colors))]\n",
    "labels = [\"tweets falsos:\",\"sin signos\",\"con signos\",\\\n",
    "          \"tweets verdaderos:\",\"sin signos\",\"con signos\"]\n",
    "\n",
    "plt.legend(handles, labels, loc=(1.2,0) , framealpha=1, frameon=False,)\n",
    "\n",
    "# título\n",
    "plt.title(\"Cantidad de tweets con\\ntres signos de puntuación seguidos\", y=1.1, fontsize =12, fontweight = 'bold')\n",
    "\n",
    "plt.show()"
   ]
  },
  {
   "cell_type": "markdown",
   "metadata": {},
   "source": [
    "Me fijo el número de ocurrencias de los carácteres de 3 signos en los tweets"
   ]
  },
  {
   "cell_type": "code",
   "execution_count": null,
   "metadata": {},
   "outputs": [],
   "source": [
    "dict_punctx3 = {}\n",
    "for s in df_caracteres[df_caracteres[\"punctx3\"]!=\"\"][\"punctx3\"]:\n",
    "    for w in s.split(\" \"):\n",
    "        if w not in dict_punctx3:\n",
    "            dict_punctx3[w] = 1\n",
    "        else:\n",
    "            dict_punctx3[w] +=1"
   ]
  },
  {
   "cell_type": "code",
   "execution_count": null,
   "metadata": {},
   "outputs": [],
   "source": [
    "punctx3_keys = [k for k in dict_punctx3.keys()]\n",
    "punctx3_vals = [v for v in dict_punctx3.values()]\n",
    "index = [i+1 for i in range(len(punctx3_keys))]"
   ]
  },
  {
   "cell_type": "code",
   "execution_count": null,
   "metadata": {},
   "outputs": [],
   "source": [
    "# selection sort\n",
    "\n",
    "for i in range(len(punctx3_vals)): \n",
    "    min_idx = i \n",
    "    for j in range(i+1, len(punctx3_vals)): \n",
    "        if punctx3_vals[min_idx] > punctx3_vals[j]: \n",
    "            min_idx = j \n",
    "    punctx3_vals[i], punctx3_vals[min_idx] = punctx3_vals[min_idx], punctx3_vals[i]\n",
    "    punctx3_keys[i], punctx3_keys[min_idx] = punctx3_keys[min_idx], punctx3_keys[i]       "
   ]
  },
  {
   "cell_type": "code",
   "execution_count": null,
   "metadata": {
    "scrolled": true
   },
   "outputs": [],
   "source": [
    "plt.hlines(y=index, xmin=0, xmax=punctx3_vals, color='skyblue')\n",
    "plt.plot(punctx3_vals, index, \"o\", label=punctx3_vals)\n",
    " \n",
    "# Add titles and axis names\n",
    "plt.yticks(index, punctx3_keys)\n",
    "plt.title(\"Cantidad de apariciones de\\ntres signos de puntuación seguidos\")\n",
    "plt.xlabel('Cantidad de apariciones')\n",
    "plt.ylabel('')\n",
    "\n",
    "for i in range(len(punctx3_vals)):\n",
    "    plt.text(punctx3_vals[i], i+1, str(punctx3_vals[i]), c='r')\n",
    "\n",
    "plt.show()"
   ]
  },
  {
   "cell_type": "code",
   "execution_count": null,
   "metadata": {},
   "outputs": [],
   "source": [
    "df_caracteres[df_caracteres['cant...']!=0]['target'].value_counts()"
   ]
  },
  {
   "cell_type": "code",
   "execution_count": null,
   "metadata": {},
   "outputs": [],
   "source": [
    "data_caracteres= df_caracteres.loc[:,['target','cant...','cant???','cant!!!']]\n",
    "data_caracteres['cant...'] =df_caracteres['cant...']!=0 \n",
    "data_caracteres['cant???'] =df_caracteres['cant???']!=0 \n",
    "data_caracteres['cant!!!'] =df_caracteres['cant!!!']!=0 \n",
    "data_caracteres.columns=['target','...','???','!!!']\n",
    "data_caracteres= data_caracteres.groupby('target').agg({'...':'sum','???':'sum','!!!':'sum'})\n",
    "data_caracteres = data_caracteres.stack().to_frame().reset_index()\n",
    "data_caracteres.columns= ['veracidad_tweet','puntuacion','valores']"
   ]
  },
  {
   "cell_type": "code",
   "execution_count": null,
   "metadata": {},
   "outputs": [],
   "source": [
    "data_caracteres['valores_1'] = (data_caracteres[data_caracteres['veracidad_tweet']==False]['valores']/4342)\n",
    "data_caracteres['valores_2'] = data_caracteres[data_caracteres['veracidad_tweet']==True]['valores']/3271\n",
    "data_caracteres = data_caracteres.fillna(0)\n",
    "data_caracteres['valores'] = data_caracteres['valores_1'] + data_caracteres['valores_2']\n",
    "data_caracteres = data_caracteres.loc[:,['veracidad_tweet','puntuacion','valores']]"
   ]
  },
  {
   "cell_type": "code",
   "execution_count": null,
   "metadata": {},
   "outputs": [],
   "source": [
    "columns=['Veracidad del tweet', 'Signos de puntuación', 'Probabilidad de contener tres signos seguidos']\n",
    "data_caracteres.columns = columns\n",
    "\n",
    "sns.factorplot(x='Signos de puntuación', y='Probabilidad de contener tres signos seguidos', hue='Veracidad del tweet', data=data_caracteres, kind='bar', palette=[\"crimson\",\"mediumseagreen\"], height=6)\n",
    "plt.title('Probabilidad de que un tweet contenga tres signos de puntuación seguidos\\nsegún su veracidad',loc='center', fontsize =14, fontweight = 'bold')\n",
    "plt.show()"
   ]
  },
  {
   "cell_type": "markdown",
   "metadata": {},
   "source": [
    "### 2.3 Análisis de pronombre"
   ]
  },
  {
   "cell_type": "code",
   "execution_count": null,
   "metadata": {},
   "outputs": [],
   "source": [
    "#funcion auxiliar\n",
    "\n",
    "def count_word_tweet(tweet, words):\n",
    "    cant = 0\n",
    "    for w in tweet.lower().split(\" \"):\n",
    "        if w in words:\n",
    "            cant+=1\n",
    "    return cant\n",
    "def count_letter_tweet(tweet, char):\n",
    "    cant = 0\n",
    "    for words in tweet.lower().split(\" \"):\n",
    "        for w in words:\n",
    "            if char in w:\n",
    "                cant+=1\n",
    "    return cant"
   ]
  },
  {
   "cell_type": "code",
   "execution_count": null,
   "metadata": {},
   "outputs": [],
   "source": [
    "# Creo un dataframe con la cantidad de pronombres personales"
   ]
  },
  {
   "cell_type": "code",
   "execution_count": null,
   "metadata": {},
   "outputs": [],
   "source": [
    "df_pronombres = pd.DataFrame()\n",
    "\n",
    "df_pronombres[\"target\"] = train['target']\n",
    "\n",
    "df_pronombres['she'] = train['text'].apply(lambda x: count_word_tweet(x, [\"she\", \"she's\"]))\n",
    "df_pronombres['he'] = train['text'].apply(lambda x: count_word_tweet(x, [\"he\", \"he's\"]))\n",
    "df_pronombres['it'] = train['text'].apply(lambda x: count_word_tweet(x, [\"it\", \"it's\"]))\n",
    "df_pronombres['i'] = train['text'].apply(lambda x: count_word_tweet(x, [\"i\", \"i'm\"]))\n",
    "df_pronombres['you'] = train['text'].apply(lambda x: count_word_tweet(x, [\"you\",\"you're\"]))\n",
    "df_pronombres['they'] = train['text'].apply(lambda x: count_word_tweet(x, [\"they\",\"they're\"]))\n",
    "df_pronombres['we'] = train['text'].apply(lambda x: count_word_tweet(x, [\"we\",\"we're\"]))"
   ]
  },
  {
   "cell_type": "code",
   "execution_count": null,
   "metadata": {},
   "outputs": [],
   "source": [
    "# Tomo solo los valores con pronombres\n",
    "df_solo_pronombres = df_pronombres[df_pronombres.loc[:, df_pronombres.columns != 'target'].T.any()]"
   ]
  },
  {
   "cell_type": "code",
   "execution_count": null,
   "metadata": {},
   "outputs": [],
   "source": [
    "cant_pronombres_falsos, cant_pronombres_reales = df_solo_pronombres.target.value_counts()"
   ]
  },
  {
   "cell_type": "code",
   "execution_count": null,
   "metadata": {
    "scrolled": true
   },
   "outputs": [],
   "source": [
    "cant_pronombres = df_solo_pronombres.count()[0]"
   ]
  },
  {
   "cell_type": "code",
   "execution_count": null,
   "metadata": {},
   "outputs": [],
   "source": [
    "promedio_pronombre_falsos =(cant_pronombres_falsos/cant_pronombres)*100\n",
    "promedio_pronombre_reales =(cant_pronombres_reales/cant_pronombres)*100"
   ]
  },
  {
   "cell_type": "code",
   "execution_count": null,
   "metadata": {},
   "outputs": [],
   "source": [
    "data={'Reales: {:02.1f}%'.format(promedio_pronombre_reales): promedio_pronombre_reales,\\\n",
    "      'Falsos: {:02.1f}%'.format(promedio_pronombre_falsos): promedio_pronombre_falsos}\n",
    "plt.figure(\n",
    "    FigureClass=Waffle, \n",
    "    rows=10, \n",
    "    values=data, \n",
    "    colors=[\"green\",\"#b02c2c\"],\n",
    "    legend={'loc': 'lower left', 'bbox_to_anchor': (1, 0), 'fontsize':12},\n",
    "    icons='dove', icon_size=14, \n",
    "    icon_legend=True\n",
    ")\n",
    "plt.title(\"Porcentaje de tweets con pronombres\", loc='center', fontsize =12, fontweight = 'bold')\n",
    "plt.show()"
   ]
  },
  {
   "cell_type": "code",
   "execution_count": null,
   "metadata": {},
   "outputs": [],
   "source": [
    "train.target.value_counts()"
   ]
  },
  {
   "cell_type": "code",
   "execution_count": null,
   "metadata": {},
   "outputs": [],
   "source": [
    "cant_sin_pronombres = train.count()[0]-cant_pronombres\n",
    "cant_falsos, cant_reales = train.target.value_counts()"
   ]
  },
  {
   "cell_type": "code",
   "execution_count": null,
   "metadata": {},
   "outputs": [],
   "source": [
    "promedio_pronombre_falsos =((cant_falsos-cant_pronombres_falsos)/cant_sin_pronombres)*100\n",
    "promedio_pronombre_reales =((cant_reales-cant_pronombres_reales)/cant_sin_pronombres)*100"
   ]
  },
  {
   "cell_type": "code",
   "execution_count": null,
   "metadata": {},
   "outputs": [],
   "source": [
    "data={'Reales: {:02.1f}%'.format(promedio_pronombre_reales): promedio_pronombre_reales,\\\n",
    "      'Falsos: {:02.1f}%'.format(promedio_pronombre_falsos): promedio_pronombre_falsos}\n",
    "plt.figure(\n",
    "    FigureClass=Waffle,\n",
    "    rows=10,\n",
    "    values=data,\n",
    "    colors=[\"green\",\"#b02c2c\"],\n",
    "    legend={'loc': 'lower left', 'bbox_to_anchor': (1, 0), 'fontsize':12},\n",
    "    icons='user-slash', icon_size=14,\n",
    "    icon_legend=True\n",
    ")\n",
    "plt.title(\"Porcentaje de tweets sin pronombres\", loc='center', fontsize =12, fontweight = 'bold')\n",
    "plt.show()"
   ]
  },
  {
   "cell_type": "markdown",
   "metadata": {},
   "source": [
    "Se observa que 2457 de 7613 tweets poseen pronombres"
   ]
  },
  {
   "cell_type": "code",
   "execution_count": null,
   "metadata": {},
   "outputs": [],
   "source": [
    "pronombres = [\"she\", \"he\", \"it\", \"i\",\"they\", \"you\",\"we\"]\n",
    "N = len(pronombres)"
   ]
  },
  {
   "cell_type": "code",
   "execution_count": null,
   "metadata": {},
   "outputs": [],
   "source": [
    "pronombres_cant = []\n",
    "for i in range(len(pronombres)):\n",
    "    pronombres_cant.append(sum(df_pronombres[pronombres[i]].value_counts()[1:]))"
   ]
  },
  {
   "cell_type": "code",
   "execution_count": null,
   "metadata": {
    "scrolled": false
   },
   "outputs": [],
   "source": [
    "squarify.plot(sizes=pronombres_cant, label=pronombres,\\\n",
    "              color = [\"#4CB391\",\"#d9e7c1\", \"#c1cdc1\",\"#faebd7\",\"#d6a49b\",\"#fdd1a5\", \"#ffffbe\"] )\n",
    "plt.axis('off')\n",
    "plt.title(\"Proporción de pronombres más usados\", loc='center', fontsize =12, fontweight = 'bold')\n",
    "\n",
    "plt.show()"
   ]
  },
  {
   "cell_type": "code",
   "execution_count": null,
   "metadata": {},
   "outputs": [],
   "source": [
    "df_real_pronombres = df_pronombres[df_pronombres['target']==True]\n",
    "\n",
    "pronombres_cant = []\n",
    "for i in range(len(pronombres)):\n",
    "    pronombres_cant.append(sum(df_real_pronombres[pronombres[i]].value_counts()[1:]))\n",
    "\n",
    "    \n",
    "perc = [str('{:5.2f}'.format(i/sum(pronombres_cant)*100)) + \"%\" for i in pronombres_cant]\n",
    "lbl = [el[0].upper() + \"\\n\" + el[1] for el in zip(pronombres, perc)]\n",
    "\n",
    "fig = plt.figure(figsize=(12, 10))\n",
    "ax = squarify.plot(sizes=pronombres_cant, label=lbl,\\\n",
    "              color = [\"#4CB391\",\"#d9e7c1\", \"#c1cdc1\",\"#faebd7\",\"#d6a49b\",\"#fdd1a5\", \"#ffffbe\"],\n",
    "             )\n",
    "\n",
    "plt.axis('off')\n",
    "plt.title(\"Proporción de pronombres más usados en tweets reales\", loc='center', fontsize =15, fontweight = 'bold')\n",
    "\n",
    "plt.show()\n"
   ]
  },
  {
   "cell_type": "code",
   "execution_count": null,
   "metadata": {},
   "outputs": [],
   "source": [
    "df_real_pronombres = df_pronombres[df_pronombres['target']==False]\n",
    "\n",
    "pronombres_cant = []\n",
    "for i in range(len(pronombres)):\n",
    "    pronombres_cant.append(sum(df_real_pronombres[pronombres[i]].value_counts()[1:]))\n",
    "\n",
    "perc = [str('{:5.2f}'.format(i/sum(pronombres_cant)*100)) + \"%\" for i in pronombres_cant]\n",
    "lbl = [el[0].upper() + \"\\n\" + el[1] for el in zip(pronombres, perc)]\n",
    "\n",
    "fig = plt.figure(figsize=(12, 10))\n",
    "squarify.plot(sizes=pronombres_cant, label=lbl,\\\n",
    "              color = [\"#4CB391\",\"#d9e7c1\", \"#c1cdc1\",\"#faebd7\",\"#d6a49b\",\"#fdd1a5\", \"#ffffbe\"] )\n",
    "plt.axis('off')\n",
    "plt.title(\"Proporción de pronombres más usados en tweets falsos\", loc='center', fontsize =15, fontweight = 'bold')\n",
    "\n",
    "plt.show()"
   ]
  },
  {
   "cell_type": "code",
   "execution_count": null,
   "metadata": {},
   "outputs": [],
   "source": [
    "fig,axe = plt.subplots(figsize=(20, 5))\n",
    "\n",
    "g = sns.heatmap(df_solo_pronombres.loc[:, df_solo_pronombres.columns != 'target'].T)\n",
    "g.set(ylabel='Pronombres en inglés', xlabel='Tweets', xticks=[])\n",
    "plt.title(\"Ocurrencias de los pronombres por tweet\", loc='center', fontsize =14, fontweight = 'bold')\n",
    "\n",
    "plt.show()"
   ]
  },
  {
   "cell_type": "markdown",
   "metadata": {},
   "source": [
    "##  3. Análisis de hashtags"
   ]
  },
  {
   "cell_type": "markdown",
   "metadata": {},
   "source": [
    "Funciones auxiliares:"
   ]
  },
  {
   "cell_type": "code",
   "execution_count": null,
   "metadata": {},
   "outputs": [],
   "source": [
    "#limpio un poco el tweet\n",
    "def cleanTweet(tweet):\n",
    "    tw = \" \"\n",
    "    words = tweet.split(' ')\n",
    "    for word in words:\n",
    "        word = ''.join(filter(lambda x: x in set(string.printable), word))\n",
    "        word = word.replace(\"\\n\",\" \")\n",
    "        word = word.replace('û',\"\")\n",
    "        word = word.replace('_','')\n",
    "        word = word.replace(\"\\\"\",'')\n",
    "        word = word.strip('.')\n",
    "        word = word.strip(',')\n",
    "        word = word.strip(':')\n",
    "        tw += word + \" \"\n",
    "    return tw\n",
    "\n",
    "'''Recibe un tweet en forma de string y devuelve otro string con sus hashtags con el separador ',' de por medio\n",
    "y en minuscula.'''\n",
    "def get_hashtags(tweet):\n",
    "    res = \"\"\n",
    "    words = tweet.split(' ')\n",
    "    for word in words:\n",
    "        if(word != \"\" and word[0]=='#'):\n",
    "            res += word.lower() +\" \"\n",
    "    return res[:-1]\n",
    "\n",
    "'''Recibe un string y devuelve la cantidad de substrings que son separados por un delimitador ',' .'''\n",
    "def cant_substrings(string):\n",
    "    cant = 0\n",
    "    delimiter =  '#'\n",
    "    for c in string:\n",
    "        if(c == delimiter):\n",
    "            cant += 1\n",
    "    return cant"
   ]
  },
  {
   "cell_type": "markdown",
   "metadata": {},
   "source": [
    "Se crea un nuevo dataframe especialmente para los hashtags."
   ]
  },
  {
   "cell_type": "code",
   "execution_count": null,
   "metadata": {
    "scrolled": true
   },
   "outputs": [],
   "source": [
    "df_hashtags = train[['id', 'text', 'target']].copy()\n",
    "df_hashtags['text'] = df_hashtags['text'].apply(cleanTweet)\n",
    "df_hashtags['hashtags'] = df_hashtags['text'].apply(get_hashtags).astype(str)\n",
    "df_hashtags['cant_hashtags'] = df_hashtags['text'].apply(cant_substrings)"
   ]
  },
  {
   "cell_type": "code",
   "execution_count": null,
   "metadata": {},
   "outputs": [],
   "source": [
    "df_hashtags_only = df_hashtags.loc[df_hashtags['hashtags']!='']\n",
    "df_sin_hashtags = df_hashtags.loc[df_hashtags['hashtags']=='']"
   ]
  },
  {
   "cell_type": "markdown",
   "metadata": {},
   "source": [
    "### 3.1 Cantidad de tweets con hashtags"
   ]
  },
  {
   "cell_type": "markdown",
   "metadata": {},
   "source": [
    "Se calcula la cantidade de tweets con y sin hashtag."
   ]
  },
  {
   "cell_type": "code",
   "execution_count": null,
   "metadata": {},
   "outputs": [],
   "source": [
    "cant_tweets = df_hashtags.agg('count')[0]\n",
    "cant_tweets_con_hashtag = df_hashtags_only.agg('count')[0]\n",
    "cant_tweets_sin_hashtag = cant_tweets - cant_tweets_con_hashtag"
   ]
  },
  {
   "cell_type": "code",
   "execution_count": null,
   "metadata": {},
   "outputs": [],
   "source": [
    "con_hashtag = round((cant_tweets_con_hashtag/cant_tweets)*100,1)\n",
    "sin_hashtag = round((cant_tweets_sin_hashtag/cant_tweets)*100,1)\n",
    "label_con_hashtag = str(con_hashtag)+'%'\n",
    "label_sin_hashtag = str(sin_hashtag)+'%'\n",
    "\n",
    "data={'Con Hashtags: '+label_con_hashtag: con_hashtag, 'Sin Hashtags: '+label_sin_hashtag: sin_hashtag}\n",
    "plt.figure(\n",
    "    FigureClass=Waffle, \n",
    "    rows=5, \n",
    "    values=data, \n",
    "    colors=[\"#00acee\",\"#b02c2c\"],\n",
    "    legend={'loc': 'upper left', 'bbox_to_anchor': (1, 0.7)},\n",
    "    icons='hashtag', icon_size=14, \n",
    "    icon_legend=True,\n",
    "    figsize=(10,10)\n",
    ")\n",
    "plt.title(\"Porcentaje de tweets con hashtags\", loc='center', fontsize =12, fontweight = 'bold')\n",
    "plt.show()"
   ]
  },
  {
   "cell_type": "markdown",
   "metadata": {},
   "source": [
    "### 3.2 Hashtags más usados"
   ]
  },
  {
   "cell_type": "markdown",
   "metadata": {},
   "source": [
    "Se genera un texto con todos los hashtags"
   ]
  },
  {
   "cell_type": "code",
   "execution_count": null,
   "metadata": {},
   "outputs": [],
   "source": [
    "words = '' \n",
    "  \n",
    "index = df_hashtags_only.index.tolist()\n",
    "for i in index:\n",
    "    words += df_hashtags_only.loc[i, \"hashtags\"] + \" \""
   ]
  },
  {
   "cell_type": "markdown",
   "metadata": {},
   "source": [
    "Se grafica de hashtags más usados usando un wordcloud"
   ]
  },
  {
   "cell_type": "code",
   "execution_count": null,
   "metadata": {
    "scrolled": true
   },
   "outputs": [],
   "source": [
    "twitter_mask = imread('twitter.png')\n",
    "\n",
    "wordcloud = WordCloud(width = 2400, height = 2400, \n",
    "                background_color ='#00acee', \n",
    "                min_font_size = 7,\n",
    "                mask=twitter_mask,\n",
    "                colormap= \"Pastel2\", collocations=False).generate(words) \n",
    "  \n",
    "plt.figure(figsize = (15, 15))\n",
    "plt.title(\"HASHTAGS MÁS USADOS\", loc='center', fontsize =20, fontweight = 'bold')\n",
    "plt.imshow(wordcloud) \n",
    "plt.axis(\"off\") \n",
    "plt.tight_layout(pad = 0) \n",
    "  \n",
    "plt.show() "
   ]
  },
  {
   "cell_type": "markdown",
   "metadata": {},
   "source": [
    "Se crea un diccionario con los hashtags y su cantidad de apariciones en total."
   ]
  },
  {
   "cell_type": "code",
   "execution_count": null,
   "metadata": {},
   "outputs": [],
   "source": [
    "def get_df_cant_hashtags(df):\n",
    "    \n",
    "    dict_hashtag = {}\n",
    "    for row in df[\"hashtags\"]:\n",
    "        hashtags = row.split(\" \")\n",
    "        for h in hashtags:\n",
    "            if (len(h)>1):\n",
    "                if(h in dict_hashtag):\n",
    "                    dict_hashtag[h] += 1\n",
    "                else:\n",
    "                    dict_hashtag[h] = 1\n",
    "    \n",
    "    df_hashtags_ranking = pd.DataFrame.from_dict(dict_hashtag, orient =\"index\")\n",
    "    df_hashtags_ranking.columns = ['cant']\n",
    "    df_hashtags_ranking.sort_values(\"cant\", ascending = False, inplace =True)\n",
    "    \n",
    "    return df_hashtags_ranking"
   ]
  },
  {
   "cell_type": "code",
   "execution_count": null,
   "metadata": {},
   "outputs": [],
   "source": [
    "df_hashtags_ranking =  get_df_cant_hashtags(df_hashtags_only)"
   ]
  },
  {
   "cell_type": "markdown",
   "metadata": {},
   "source": [
    "Se crea un ranking de los hashtags más usados."
   ]
  },
  {
   "cell_type": "code",
   "execution_count": null,
   "metadata": {},
   "outputs": [],
   "source": [
    "sns.set(style=\"white\", context=\"talk\")\n",
    "\n",
    "top = 20\n",
    "fig,ax1 = plt.subplots(1, 1, figsize=(10, 5))\n",
    "\n",
    "labels = df_hashtags_ranking.index[:top]\n",
    "x1 = [i for i in range(1,top+1)]\n",
    "y1 = df_hashtags_ranking[\"cant\"][:top]\n",
    "\n",
    "sns.barplot(x=x1, y=y1, palette=\"Blues_r\", ax=ax1)\n",
    "ax1.axhline(0, color=\"k\", clip_on=False)\n",
    "ax1.set_ylabel(\"Frecuencia\")\n",
    "ax1.set_xlabel(\"Hashtag\")\n",
    "ax1.set_xticklabels(labels, rotation = 80)\n",
    "ax1.set_title(\"Top 20 hashtags más usados\", loc='center', fontsize =20, fontweight = 'bold')\n",
    "\n",
    "plt.show()"
   ]
  },
  {
   "cell_type": "markdown",
   "metadata": {},
   "source": [
    "### 3.3  Hashtags mas usados en tweets falsos y reales"
   ]
  },
  {
   "cell_type": "markdown",
   "metadata": {},
   "source": [
    "Observamos que auqellos tweets analizados sin hashtags son 58.87% falsos y 41.13% reales."
   ]
  },
  {
   "cell_type": "code",
   "execution_count": null,
   "metadata": {},
   "outputs": [],
   "source": [
    "df_sin_hashtags[\"target\"].value_counts()"
   ]
  },
  {
   "cell_type": "markdown",
   "metadata": {},
   "source": [
    "Separo por aquellos tweets con hashtag los reales de los falsos:"
   ]
  },
  {
   "cell_type": "code",
   "execution_count": null,
   "metadata": {},
   "outputs": [],
   "source": [
    "df_hashtags_real = df_hashtags_only.loc[df_hashtags['target']==True]\n",
    "df_hashtags_falso = df_hashtags_only.loc[df_hashtags['target']==False]"
   ]
  },
  {
   "cell_type": "code",
   "execution_count": null,
   "metadata": {},
   "outputs": [],
   "source": [
    "df_hashtags_ranking_real =  get_df_cant_hashtags(df_hashtags_real)\n",
    "df_hashtags_ranking_falso =  get_df_cant_hashtags(df_hashtags_falso)"
   ]
  },
  {
   "cell_type": "code",
   "execution_count": null,
   "metadata": {
    "scrolled": true
   },
   "outputs": [],
   "source": [
    "sns.set(style=\"white\", context=\"talk\")\n",
    "\n",
    "top = 20\n",
    "fig,axes = plt.subplots(2, 1, figsize=(10, 10))\n",
    "\n",
    "plt.subplots_adjust(hspace = 0.75)\n",
    "plt.suptitle(\"Top 20 hashtags más usados en tweets\\nsegún veracidad\", fontsize =20, fontweight = 'bold')\n",
    "\n",
    "# Tweets reales\n",
    "labels = df_hashtags_ranking_real.index[:top]\n",
    "x1 = [i for i in range(1,top+1)]\n",
    "y1 = df_hashtags_ranking_real[\"cant\"][:top]\n",
    "\n",
    "sns.barplot(x=x1, y=y1, palette=\"Greens_r\", ax=axes[0])\n",
    "axes[0].axhline(0, color=\"k\", clip_on=False)\n",
    "axes[0].set_ylabel(\"Frecuencia\")\n",
    "axes[0].set_xticklabels(labels, rotation = 70)\n",
    "axes[0].set_title(\"Tweets reales\", loc='center', fontsize =14)\n",
    "\n",
    "# Tweets falsos\n",
    "\n",
    "labels = df_hashtags_ranking_falso.index[:top]\n",
    "x1 = [i for i in range(1,top+1)]\n",
    "y1 = df_hashtags_ranking_falso[\"cant\"][:top]\n",
    "\n",
    "sns.barplot(x=x1, y=y1, palette=\"Reds_r\", ax=axes[1])\n",
    "axes[1].axhline(0, color=\"k\", clip_on=False)\n",
    "axes[1].set_ylabel(\"Frecuencia\")\n",
    "axes[1].set_xticklabels(labels, rotation = 70)\n",
    "axes[1].set_title(\"Tweets falsos\", loc='center', fontsize =14)\n",
    "\n",
    "plt.show()"
   ]
  },
  {
   "cell_type": "markdown",
   "metadata": {},
   "source": [
    "### 3.4 Análisis de cantidad de hashtags"
   ]
  },
  {
   "cell_type": "code",
   "execution_count": null,
   "metadata": {},
   "outputs": [],
   "source": [
    "cant_sin_hashtags = df_sin_hashtags[\"target\"].value_counts()"
   ]
  },
  {
   "cell_type": "code",
   "execution_count": null,
   "metadata": {
    "scrolled": true
   },
   "outputs": [],
   "source": [
    "cant_hashtags_falso = df_hashtags_ranking_falso[\"cant\"].value_counts()\n",
    "cant_hashtags_real = df_hashtags_ranking_real[\"cant\"].value_counts()"
   ]
  },
  {
   "cell_type": "code",
   "execution_count": null,
   "metadata": {},
   "outputs": [],
   "source": [
    "cant_hashtags_falsos_l =  [cant_sin_hashtags[0]]+cant_hashtags_falso[:2].tolist()\\\n",
    "+ [sum(cant_hashtags_falso[2:])]\n",
    "cant_hashtags_real_l = [cant_sin_hashtags[1]]+cant_hashtags_real[:2].tolist()\\\n",
    "+ [sum(cant_hashtags_real[2:])]"
   ]
  },
  {
   "cell_type": "code",
   "execution_count": null,
   "metadata": {
    "scrolled": true
   },
   "outputs": [],
   "source": [
    "fig,ax1 = plt.subplots(1, 1, figsize=(15, 15))\n",
    "\n",
    "barWidth = 0.3\n",
    "\n",
    "r1 = np.arange(len(cant_hashtags_falsos_l))\n",
    "r2 = [x + barWidth for x in r1]\n",
    " \n",
    "plt.bar(r1, cant_hashtags_falsos_l, color='#B22222', width=barWidth, edgecolor='white', label='tweets falsos')\n",
    "plt.bar(r2, cant_hashtags_real_l, color='#557f2d', width=barWidth, edgecolor='white', label='tweets verdaderos')\n",
    " \n",
    "plt.xlabel('cantidad de hashtags')\n",
    "plt.xticks([r + barWidth for r in range(len(cant_hashtags_falsos_l))], ['0', '1', '2', '3 o más'])\n",
    "\n",
    "plt.ylabel('cantidad de tweets')\n",
    "plt.yticks(range(0,3600,100))\n",
    "\n",
    "plt.title(\"Cantidad de tweets con cierta cantidad de hashtags\", fontweight = \"bold\", fontsize=16)\n",
    "plt.grid(b=True, which='major', axis='y', color='#666660', linestyle='-', linewidth=0.5)\n",
    "\n",
    "ax1.spines['right'].set_visible(False)\n",
    "ax1.spines['top'].set_visible(False)\n",
    "ax1.spines['left'].set_visible(False)\n",
    "plt.legend()\n",
    "plt.show()"
   ]
  },
  {
   "cell_type": "markdown",
   "metadata": {},
   "source": [
    "### 3.5 Análisis de hashtags sobre catástrofes"
   ]
  },
  {
   "cell_type": "code",
   "execution_count": null,
   "metadata": {},
   "outputs": [],
   "source": [
    "cant_hashtags_reales    = df_hashtags_only[df_hashtags_only['target']==True].id.count()\n",
    "cant_tweets_reales      = df_hashtags[df_hashtags['target']==True].id.count()\n",
    "cant_sin_hashtag_reales = df_sin_hashtags[df_sin_hashtags['target']==True].id.count()\n",
    "\n",
    "cant_hashtags_falsos    = df_hashtags_only[df_hashtags_only['target']==False].id.count()\n",
    "cant_tweets_falsos      = df_hashtags[df_hashtags['target']==False].id.count()\n",
    "cant_sin_hashtag_falsos = df_sin_hashtags[df_sin_hashtags['target']==False].id.count()"
   ]
  },
  {
   "cell_type": "code",
   "execution_count": null,
   "metadata": {},
   "outputs": [],
   "source": [
    "data = pd.DataFrame(\n",
    "    {\n",
    "        'labels': ['Con Hashtag', 'Sin Hashtag'],\n",
    "        'Tweets sobre Catástrofes': [round((cant_hashtags_reales/cant_tweets_reales)*100,1), round((cant_sin_hashtag_reales/cant_tweets_reales)*100,1)],\n",
    "        'Tweets Random': [round((cant_hashtags_falsos/cant_tweets_falsos)*100,1), round((cant_sin_hashtag_falsos/cant_tweets_falsos)*100,1)],\n",
    "    },\n",
    ").set_index('labels')\n",
    "\n",
    "fig = plt.figure(\n",
    "    FigureClass=Waffle,\n",
    "    plots={\n",
    "        '311': {\n",
    "            'values': data['Tweets sobre Catástrofes'],\n",
    "            'labels': [\"{0} ({1}%)\".format(n, v) for n, v in data['Tweets sobre Catástrofes'].items()],\n",
    "            'legend': {'loc': 'upper left', 'bbox_to_anchor': (1.05, 1), 'fontsize': 8},\n",
    "            'title': {'label': 'Tweets sobre Catástrofes', 'loc': 'left'}\n",
    "        },\n",
    "        '312': {\n",
    "            'values': data['Tweets Random'],\n",
    "            'labels': [\"{0} ({1}%)\".format(n, v) for n, v in data['Tweets Random'].items()],\n",
    "            'legend': {'loc': 'upper left', 'bbox_to_anchor': (1.2, 1), 'fontsize': 8},\n",
    "            'title': {'label': 'Tweets Random', 'loc': 'left'},\n",
    "        },\n",
    "    },\n",
    "    rows=5,\n",
    "    colors=(\"#2196f3\", \"#ff5252\"),  # Default argument values for subplots\n",
    "    figsize=(10, 5),  # figsize is a parameter of plt.figure\n",
    "    icons='hashtag', icon_size=14, \n",
    "    icon_legend=True\n",
    ")"
   ]
  },
  {
   "cell_type": "markdown",
   "metadata": {},
   "source": [
    "## 4. Analisis de usuarios arrobados"
   ]
  },
  {
   "cell_type": "code",
   "execution_count": null,
   "metadata": {},
   "outputs": [],
   "source": [
    "#Obtengo los strings con arrobas\n",
    "def arrobas(tweet):\n",
    "    res = \"\"\n",
    "    words = tweet.split(' ')\n",
    "    for word in words:\n",
    "        if(word != \"\" and word[0]=='@'and len(word)>1):\n",
    "            res += word +\" \"\n",
    "    return res[:-1]\n",
    "\n",
    "#Obtengo la cantidad de arrobados por tweet\n",
    "def cantidad_arrobas(string):\n",
    "    cantidad = 0\n",
    "    delimiter = '@'\n",
    "    for c in string:\n",
    "        if(c == delimiter):\n",
    "            cantidad += 1\n",
    "    return cantidad"
   ]
  },
  {
   "cell_type": "code",
   "execution_count": null,
   "metadata": {},
   "outputs": [],
   "source": [
    "df_arrobas = train[['id', 'text', 'target']].copy()\n",
    "df_hashtags['text'] = df_hashtags['text'].apply(cleanTweet)\n",
    "df_arrobas['arrobas'] = df_arrobas['text'].apply(arrobas).astype(str)\n",
    "df_arrobas['cant_arrobas'] = df_arrobas['text'].apply(cantidad_arrobas)"
   ]
  },
  {
   "cell_type": "code",
   "execution_count": null,
   "metadata": {},
   "outputs": [],
   "source": [
    "df_con_arrobas = df_arrobas.loc[df_arrobas['arrobas']!='']\n",
    "df_sin_arrobas = df_arrobas.loc[df_arrobas['arrobas']=='']"
   ]
  },
  {
   "cell_type": "markdown",
   "metadata": {},
   "source": [
    "### 4.1 Cantidad de tweets con usuarios arrobados"
   ]
  },
  {
   "cell_type": "code",
   "execution_count": null,
   "metadata": {},
   "outputs": [],
   "source": [
    "cant_tweets = df_arrobas.agg('count')[0]\n",
    "cant_tweets_con_arrobas = df_con_arrobas.agg('count')[0]\n",
    "cant_tweets_sin_arrobas = cant_tweets - cant_tweets_con_arrobas"
   ]
  },
  {
   "cell_type": "code",
   "execution_count": null,
   "metadata": {},
   "outputs": [],
   "source": [
    "data = [cant_tweets_con_arrobas, cant_tweets_sin_arrobas]\n",
    "bars = ('Con arrobas(25,7%)','Sin arrobas(74.3%)')\n",
    "y_pos = np.arange(len(bars))\n",
    "\n",
    "fig, ax = plt.subplots()\n",
    "ax.barh(y_pos, data)\n",
    "ax.set_yticks(y_pos)\n",
    "ax.set_yticklabels(bars)\n",
    "ax.invert_yaxis()  # labels read top-to-bottom\n",
    "ax.set_xlabel('Cantidad de tweets')\n",
    "ax.set_title('Cantidad de tweets con o sin arrobas')\n",
    "plt.show()"
   ]
  },
  {
   "cell_type": "markdown",
   "metadata": {},
   "source": [
    "### 4.2 Top de usuarios arrobados"
   ]
  },
  {
   "cell_type": "code",
   "execution_count": null,
   "metadata": {},
   "outputs": [],
   "source": [
    "def get_df_cant_arrobas(df):\n",
    "    \n",
    "    dict_arrobas = {}\n",
    "    for row in df[\"arrobas\"]:\n",
    "        arrobas = row.split(\" \")\n",
    "        for a in arrobas:\n",
    "            if(a in dict_arrobas):\n",
    "                dict_arrobas[a] += 1\n",
    "            else:\n",
    "                dict_arrobas[a] = 1\n",
    "    \n",
    "    df_arrobas_ranking = pd.DataFrame.from_dict(dict_arrobas, orient =\"index\")\n",
    "    df_arrobas_ranking.columns = ['cant']\n",
    "    df_arrobas_ranking.sort_values(\"cant\", ascending = False, inplace =True)\n",
    "    \n",
    "    return df_arrobas_ranking"
   ]
  },
  {
   "cell_type": "code",
   "execution_count": null,
   "metadata": {},
   "outputs": [],
   "source": [
    "df_arrobas_ranking =  get_df_cant_arrobas(df_con_arrobas)"
   ]
  },
  {
   "cell_type": "code",
   "execution_count": null,
   "metadata": {},
   "outputs": [],
   "source": [
    "sns.set(style=\"white\", context=\"talk\")\n",
    "\n",
    "top = 20\n",
    "fig,ax1 = plt.subplots(1, 1, figsize=(10, 5))\n",
    "\n",
    "labels = df_arrobas_ranking.index[:top]\n",
    "x1 = [i for i in range(1,top+1)]\n",
    "y1 = df_arrobas_ranking[\"cant\"][:top]\n",
    "\n",
    "sns.barplot(x=x1, y=y1, palette=\"Oranges_r\", ax=ax1)\n",
    "ax1.axhline(0, color=\"k\", clip_on=False)\n",
    "ax1.set_ylabel(\"Frecuencia\")\n",
    "ax1.set_xticklabels(labels, rotation = 75)\n",
    "ax1.set_title(\"Top 20 usuarios más arrobados\", loc='center', fontsize =20, fontweight = 'bold')\n",
    "\n",
    "plt.show()"
   ]
  },
  {
   "cell_type": "markdown",
   "metadata": {},
   "source": [
    "### 4.3 Usuarios mas arrobados en tweets falsos y reales"
   ]
  },
  {
   "cell_type": "code",
   "execution_count": null,
   "metadata": {},
   "outputs": [],
   "source": [
    "df_sin_arrobas_real = df_sin_arrobas.loc[df_arrobas['target']==True]\n",
    "df_sin_arrobas_falso = df_sin_arrobas.loc[df_arrobas['target']==False]"
   ]
  },
  {
   "cell_type": "code",
   "execution_count": null,
   "metadata": {},
   "outputs": [],
   "source": [
    "df_arrobas_real = df_con_arrobas.loc[df_arrobas['target']==True]\n",
    "df_arrobas_falso = df_con_arrobas.loc[df_arrobas['target']==False]"
   ]
  },
  {
   "cell_type": "code",
   "execution_count": null,
   "metadata": {},
   "outputs": [],
   "source": [
    "data_arrobas = train[['id','target']].copy()\n",
    "data_arrobas['tweets_con_arrobas'] = df_con_arrobas['arrobas']\n",
    "data_arrobas['tweets_sin_arrobas'] = df_sin_arrobas['cant_arrobas']\n",
    "data_arrobas = data_arrobas.groupby('target').agg({'tweets_con_arrobas':['count'],'tweets_sin_arrobas':['count']}).reset_index()\n",
    "data_arrobas.columns = ['target','cant_tweets_con_arrobas', 'cant_tweets_sin_arrobas']\n",
    "data_arrobas['target'] = data_arrobas['target'].astype(str).astype(object)"
   ]
  },
  {
   "cell_type": "code",
   "execution_count": null,
   "metadata": {},
   "outputs": [],
   "source": [
    "sns.set(style=\"whitegrid\")\n",
    "f, ax = plt.subplots(figsize=(10, 3))\n",
    "\n",
    "sns.set_color_codes(\"pastel\")\n",
    "sns.barplot(x=\"cant_tweets_sin_arrobas\", y=\"target\", data=data_arrobas,\n",
    "            label=\"Sin usuarios arrobados\", color=sns.xkcd_rgb[\"pale red\"])\n",
    "\n",
    "sns.set_color_codes(\"muted\")\n",
    "sns.barplot(x=\"cant_tweets_con_arrobas\", y=\"target\", data=data_arrobas,\n",
    "            label=\"Con usuarios arrobados\", color=\"g\")\n",
    "\n",
    "ax.legend(ncol=2, loc=\"lower right\", frameon=True)\n",
    "ax.set(xlim=(0, 3500), ylabel=\"\",\n",
    "       xlabel=\"Cantidad de tweets\")\n",
    "plt.title(\"Cantidad de tweets con o sin usuarios arrobados segun veracidad\", fontweight= 'bold', fontsize=14)\n",
    "sns.despine(left=True, bottom=True)"
   ]
  },
  {
   "cell_type": "code",
   "execution_count": null,
   "metadata": {},
   "outputs": [],
   "source": [
    "df_arrobas_ranking_real =  get_df_cant_arrobas(df_arrobas_real)\n",
    "df_arrobas_ranking_falso =  get_df_cant_arrobas(df_arrobas_falso)"
   ]
  },
  {
   "cell_type": "code",
   "execution_count": null,
   "metadata": {},
   "outputs": [],
   "source": [
    "sns.set(style=\"white\", context=\"talk\")\n",
    "\n",
    "top = 20\n",
    "fig,axes = plt.subplots(2, 1, figsize=(10, 10))\n",
    "\n",
    "plt.subplots_adjust(hspace = 1)\n",
    "plt.suptitle(\"Top 20 menciones en tweets\\nsegún veracidad\", fontsize =20, fontweight = 'bold')\n",
    "\n",
    "# Tweets reales\n",
    "labels = df_arrobas_ranking_real.index[:top]\n",
    "x1 = [i for i in range(1,top+1)]\n",
    "y1 = df_arrobas_ranking_real[\"cant\"][:top]\n",
    "\n",
    "sns.barplot(x=x1, y=y1, palette=\"Greens_r\", ax=axes[0])\n",
    "axes[0].axhline(0, color=\"k\", clip_on=False)\n",
    "axes[0].set_ylabel(\"Frecuencia\")\n",
    "axes[0].set_xticklabels(labels, rotation = 75)\n",
    "axes[0].set_title(\"Tweets reales\", loc='center', fontsize =14)\n",
    "\n",
    "# Tweets falsos\n",
    "\n",
    "labels = df_arrobas_ranking_falso.index[:top]\n",
    "x1 = [i for i in range(1,top+1)]\n",
    "y1 = df_arrobas_ranking_falso[\"cant\"][:top]\n",
    "\n",
    "sns.barplot(x=x1, y=y1, palette=\"Reds_r\", ax=axes[1])\n",
    "axes[1].axhline(0, color=\"k\", clip_on=False)\n",
    "axes[1].set_ylabel(\"Frecuencia\")\n",
    "axes[1].set_xticklabels(labels, rotation = 75)\n",
    "axes[1].set_title(\"Tweets falsos\", loc='center', fontsize =14)\n",
    "\n",
    "plt.show()"
   ]
  },
  {
   "cell_type": "markdown",
   "metadata": {},
   "source": [
    "### 4.4 Analisis de cantidad de usuarios arrobados"
   ]
  },
  {
   "cell_type": "code",
   "execution_count": null,
   "metadata": {},
   "outputs": [],
   "source": [
    "cant_sin_arrobas = df_sin_arrobas[\"target\"].value_counts()\n",
    "cant_arrobas_falso = df_arrobas_ranking_falso[\"cant\"].value_counts()\n",
    "cant_arrobas_real = df_arrobas_ranking_real[\"cant\"].value_counts()"
   ]
  },
  {
   "cell_type": "code",
   "execution_count": null,
   "metadata": {},
   "outputs": [],
   "source": [
    "cant_arrobas_falsos_l =  [cant_sin_arrobas[0]]+cant_arrobas_falso[:2].tolist()\\\n",
    "+ [sum(cant_arrobas_falso[2:])]\n",
    "cant_arrobas_real_l = [cant_sin_arrobas[1]]+cant_arrobas_real[:2].tolist()\\\n",
    "+ [sum(cant_arrobas_real[2:])]"
   ]
  },
  {
   "cell_type": "code",
   "execution_count": null,
   "metadata": {},
   "outputs": [],
   "source": [
    "fig,ax1 = plt.subplots(1, 1, figsize=(15, 15), dpi=80)\n",
    "\n",
    "barWidth = 0.3\n",
    "\n",
    "r1 = np.arange(len(cant_arrobas_falsos_l))\n",
    "r2 = [x + barWidth for x in r1]\n",
    " \n",
    "plt.bar(r1, cant_arrobas_falsos_l, color='#B22222', width=barWidth, edgecolor='white', label='tweets falsos')\n",
    "plt.bar(r2, cant_arrobas_real_l, color='#557f2d', width=barWidth, edgecolor='white', label='tweets verdaderos')\n",
    " \n",
    "plt.xlabel('Cantidad de arrobas')\n",
    "plt.xticks([r + barWidth for r in range(len(cant_arrobas_falsos_l))], ['0', '1', '2', '3 o más'])\n",
    "\n",
    "plt.ylabel('Cantidad de tweets')\n",
    "plt.yticks(range(0,3500,100))\n",
    "\n",
    "plt.title(\"Cantidad de tweets con cierta cantidad de arrobas\", fontweight = \"bold\", fontsize=16)\n",
    "plt.grid(b=True, which='major', axis='y', color='#666660', linestyle='-', linewidth=0.5)\n",
    "\n",
    "ax1.spines['right'].set_visible(False)\n",
    "ax1.spines['top'].set_visible(False)\n",
    "ax1.spines['left'].set_visible(False)\n",
    "plt.legend()\n",
    "plt.show()"
   ]
  },
  {
   "cell_type": "markdown",
   "metadata": {},
   "source": [
    "## 5. Tweets con links externos de twitter"
   ]
  },
  {
   "cell_type": "code",
   "execution_count": null,
   "metadata": {},
   "outputs": [],
   "source": [
    "servidor ='http://t.co' #esel servidor de twitter \n",
    "# df_tweet_imagen = train.loc[(servidor in train[\"text\"])]\n",
    "# for tweet in train[\"text\"]:\n",
    "#    print(servidor in tweet)"
   ]
  },
  {
   "cell_type": "code",
   "execution_count": null,
   "metadata": {
    "scrolled": true
   },
   "outputs": [],
   "source": [
    "#comentario Dani: ojo que no todos los links son imagenes, aca un ejemplo\n",
    "\n",
    "import requests\n",
    "\n",
    "shorturl = 'http://t.co/LZmL1xB2nH'\n",
    "url = requests.get(shorturl)\n",
    "\n",
    "print(\"\"\"\n",
    "The shortened URL forwards to:\n",
    "\n",
    "    %s\n",
    "\"\"\" % url.url)"
   ]
  },
  {
   "cell_type": "markdown",
   "metadata": {},
   "source": [
    "## 6. Análisis de Location"
   ]
  },
  {
   "cell_type": "markdown",
   "metadata": {},
   "source": [
    "### 6.1 Análisis de valores nulos"
   ]
  },
  {
   "cell_type": "code",
   "execution_count": null,
   "metadata": {},
   "outputs": [],
   "source": [
    "real_train_location = train.loc[train['target']==1]\n",
    "real_train_location.head(1)"
   ]
  },
  {
   "cell_type": "code",
   "execution_count": null,
   "metadata": {},
   "outputs": [],
   "source": [
    "fake_train_location = train.loc[train['target']==0]\n",
    "fake_train_location.head(1)"
   ]
  },
  {
   "cell_type": "code",
   "execution_count": null,
   "metadata": {},
   "outputs": [],
   "source": [
    "this_column = pd.Series(['type','location-null-values(%)','location-nonnull-values(%)','total'])\n",
    "data = [['real', (real_train_location['location'].isnull().sum()/real_train_location['location'].count() * 100), \\\n",
    "         100 - ((real_train_location['location'].isnull().sum()/real_train_location['location'].count() * 100)), 100],\\\n",
    "        ['fake', (fake_train_location['location'].isnull().sum()/fake_train_location['location'].count() * 100),\\\n",
    "         100 - (fake_train_location['location'].isnull().sum()/fake_train_location['location'].count() * 100), 100]] \n",
    "\n",
    "location_null_vs_target = pd.DataFrame(data, columns = this_column)\n",
    "location_null_vs_target"
   ]
  },
  {
   "cell_type": "code",
   "execution_count": null,
   "metadata": {},
   "outputs": [],
   "source": [
    "plt.figure(figsize=(12, 12))\n",
    "\n",
    "sns.set(style=\"whitegrid\")\n",
    "sns.set_color_codes(\"pastel\")\n",
    "sns.barplot(x=\"type\", y=\"total\", data=location_null_vs_target, label = \"total\", color=\"lightblue\")\n",
    "sns.barplot(x=\"type\", y=\"location-null-values(%)\", data=location_null_vs_target, label=\"null-values\", color=\"black\", alpha=.7)\n",
    "\n",
    "plt.ylabel('Relacion entre tipo de tweets y null values en LOCATION ', fontsize=12, fontweight = 'semibold')\n",
    "plt.xlabel('Tipo de tweet ', fontsize=12, fontweight = 'semibold')\n",
    "plt.legend(ncol=2, loc=\"upper right\", frameon=True)\n",
    "\n",
    "sns.despine(left=True, bottom=True)\n",
    "\n",
    "plt.show()"
   ]
  },
  {
   "cell_type": "markdown",
   "metadata": {},
   "source": [
    "## 7. Análisis de keywords"
   ]
  },
  {
   "cell_type": "code",
   "execution_count": null,
   "metadata": {},
   "outputs": [],
   "source": [
    "df_sin_keywords_nulos = train.dropna(subset=['keyword'])\n",
    "df_disaster = train[train['target'] == 1]\n",
    "df_not_disaster = df_sin_keywords_nulos[df_sin_keywords_nulos['target'] == 0]\n",
    "\n",
    "w_tokenizer = nltk.tokenize.WhitespaceTokenizer()\n",
    "lemmatizer = nltk.stem.WordNetLemmatizer()\n",
    "\n",
    "def lemmatize_text(text):\n",
    "    wordList = [lemmatizer.lemmatize(w) for w in w_tokenizer.tokenize(text)]\n",
    "    s=' '\n",
    "    return s.join(wordList) \n",
    "\n",
    "df_lemmatized = df_sin_keywords_nulos.copy()\n",
    "df_lemmatized['keyword_lemmatized'] = df_sin_keywords_nulos.keyword.apply(lemmatize_text)\n",
    "df_disaster_lemmatized = df_lemmatized[df_lemmatized['target'] == 1]\n",
    "df_not_disaster_lemmatized = df_lemmatized[df_lemmatized['target'] == 0]"
   ]
  },
  {
   "cell_type": "markdown",
   "metadata": {},
   "source": [
    "### 7.1 Análisis de keywords en tweets"
   ]
  },
  {
   "cell_type": "code",
   "execution_count": null,
   "metadata": {},
   "outputs": [],
   "source": [
    "def toText(listOfWords):\n",
    "    s=' '\n",
    "    return s.join(listOfWords)\n",
    "\n",
    "def getFrequencyDictForText(sentence):\n",
    "    fullTermsDict = multidict.MultiDict()\n",
    "    tmpDict = {}\n",
    "\n",
    "    # making dict for counting frequencies\n",
    "    for text in sentence.split(\" \"):\n",
    "        if re.match(\"a|the|an|the|to|in|for|of|or|by|with|is|on|that|be\", text):\n",
    "            continue\n",
    "        val = tmpDict.get(text, 0)\n",
    "        tmpDict[text.lower()] = val + 1\n",
    "    for key in tmpDict:\n",
    "        fullTermsDict.add(key, tmpDict[key])\n",
    "    return fullTermsDict\n",
    "\n",
    "\n",
    "def makeImage(text,bgd_color):\n",
    "    wc = WordCloud(width=1600, height=800, background_color=bgd_color, max_words=1000)\n",
    "    wc.generate_from_frequencies(text)\n",
    "\n",
    "    plt.figure(figsize=(15,15))\n",
    "    plt.tight_layout(pad=0)\n",
    "    plt.imshow(wc, interpolation=\"bilinear\")\n",
    "    plt.axis(\"off\")\n",
    "    plt.show()"
   ]
  },
  {
   "cell_type": "code",
   "execution_count": null,
   "metadata": {},
   "outputs": [],
   "source": [
    "df_keywords = df_lemmatized.keyword_lemmatized\n",
    "makeImage(getFrequencyDictForText(toText(df_keywords)), 'white')"
   ]
  },
  {
   "cell_type": "code",
   "execution_count": null,
   "metadata": {},
   "outputs": [],
   "source": [
    "df_by_keyword = df_lemmatized.loc[:,['keyword_lemmatized']]\n",
    "df_by_keyword = df_by_keyword.groupby('keyword_lemmatized').agg({'keyword_lemmatized':'count'})\n",
    "df_by_keyword.columns = ['cant']\n",
    "df_by_keyword.sort_values('cant', inplace=True)\n",
    "top20_keywords = df_by_keyword.tail(20)"
   ]
  },
  {
   "cell_type": "code",
   "execution_count": null,
   "metadata": {},
   "outputs": [],
   "source": [
    "# Draw plot\n",
    "fig, ax = plt.subplots(figsize=(14,7), dpi= 80)\n",
    "ax.vlines(x=top20_keywords.index, ymin=0, ymax=top20_keywords.cant, color='firebrick', alpha=0.7, linewidth=2)\n",
    "ax.scatter(x=top20_keywords.index, y=top20_keywords.cant, s=75, color='firebrick', alpha=0.7)\n",
    "\n",
    "# Title, Label, Ticks and Ylim\n",
    "ax.set_title('Top 20 palabras claves en tweets', fontdict={'size':22})\n",
    "ax.set_ylabel('Cantidad de Tweets')\n",
    "ax.set_xticks(top20_keywords.index)\n",
    "ax.set_xticklabels(top20_keywords.index, rotation=60, fontdict={'horizontalalignment': 'right', 'size':12})\n",
    "ax.set_ylim(0, 90)\n",
    "\n",
    "# Annotate\n",
    "for row in top20_keywords.itertuples():\n",
    "    ax.text(row.Index, row.cant+.5, s=round(row.cant, 2), horizontalalignment= 'center', verticalalignment='bottom', fontsize=14)\n",
    "\n",
    "plt.show()"
   ]
  },
  {
   "cell_type": "markdown",
   "metadata": {},
   "source": [
    "### 7.2 Análisis de keywords en tweets verdaderos"
   ]
  },
  {
   "cell_type": "code",
   "execution_count": null,
   "metadata": {},
   "outputs": [],
   "source": [
    "disaster_keywords = df_disaster_lemmatized.keyword_lemmatized\n",
    "makeImage(getFrequencyDictForText(toText(disaster_keywords)), 'black')"
   ]
  },
  {
   "cell_type": "code",
   "execution_count": null,
   "metadata": {},
   "outputs": [],
   "source": [
    "df_disaster_by_keyword = df_disaster_lemmatized.loc[:,['keyword_lemmatized']]\n",
    "df_disaster_by_keyword = df_disaster_by_keyword.groupby('keyword_lemmatized').agg({'keyword_lemmatized':'count'})\n",
    "df_disaster_by_keyword.columns = ['cant']\n",
    "df_disaster_by_keyword.sort_values('cant', inplace=True)\n",
    "top20_disaster = df_disaster_by_keyword.tail(20)"
   ]
  },
  {
   "cell_type": "code",
   "execution_count": null,
   "metadata": {},
   "outputs": [],
   "source": [
    "# Draw plot\n",
    "fig, ax = plt.subplots(figsize=(14,7), dpi= 80)\n",
    "ax.vlines(x=top20_disaster.index, ymin=0, ymax=top20_disaster.cant, color='firebrick', alpha=0.7, linewidth=2)\n",
    "ax.scatter(x=top20_disaster.index, y=top20_disaster.cant, s=75, color='firebrick', alpha=0.7)\n",
    "\n",
    "# Title, Label, Ticks and Ylim\n",
    "ax.set_title('Top 20 palabras claves en tweets verdaderos', fontdict={'size':22})\n",
    "ax.set_ylabel('Cantidad de Tweets')\n",
    "ax.set_xticks(top20_disaster.index)\n",
    "ax.set_xticklabels(top20_disaster.index, rotation=60, fontdict={'horizontalalignment': 'right', 'size':12})\n",
    "ax.set_ylim(0, 50)\n",
    "\n",
    "# Annotate\n",
    "for row in top20_disaster.itertuples():\n",
    "    ax.text(row.Index, row.cant+.5, s=round(row.cant, 2), horizontalalignment= 'center', verticalalignment='bottom', fontsize=14)\n",
    "\n",
    "plt.show()"
   ]
  },
  {
   "cell_type": "markdown",
   "metadata": {},
   "source": [
    "### 7.3 Análisis de keywords en tweets falsos"
   ]
  },
  {
   "cell_type": "code",
   "execution_count": null,
   "metadata": {},
   "outputs": [],
   "source": [
    "not_disaster_keywords = df_not_disaster_lemmatized.keyword_lemmatized\n",
    "makeImage(getFrequencyDictForText(toText(not_disaster_keywords)),'lightcyan')"
   ]
  },
  {
   "cell_type": "code",
   "execution_count": null,
   "metadata": {},
   "outputs": [],
   "source": [
    "df_not_disaster_by_keyword = df_not_disaster_lemmatized.loc[:,['keyword_lemmatized']]\n",
    "df_not_disaster_by_keyword = df_not_disaster_by_keyword.groupby('keyword_lemmatized').agg({'keyword_lemmatized':'count'})\n",
    "df_not_disaster_by_keyword.columns = ['cant']\n",
    "df_not_disaster_by_keyword.sort_values('cant', inplace=True)\n",
    "top20_not_disaster = df_not_disaster_by_keyword.tail(20)"
   ]
  },
  {
   "cell_type": "code",
   "execution_count": null,
   "metadata": {},
   "outputs": [],
   "source": [
    "# Draw plot\n",
    "fig, ax = plt.subplots(figsize=(14,7), dpi= 80)\n",
    "ax.vlines(x=top20_not_disaster.index, ymin=0, ymax=top20_not_disaster.cant, color='midnightblue', alpha=0.7, linewidth=2)\n",
    "ax.scatter(x=top20_not_disaster.index, y=top20_not_disaster.cant, s=75, color='midnightblue', alpha=0.7)\n",
    "\n",
    "# Title, Label, Ticks and Ylim\n",
    "ax.set_title('Top 20 palabras claves en tweets falsos', fontdict={'size':22})\n",
    "ax.set_ylabel('Cantidad de tweets')\n",
    "ax.set_xticks(top20_not_disaster.index)\n",
    "ax.set_xticklabels(top20_not_disaster.index, rotation=60, fontdict={'horizontalalignment': 'right', 'size':12})\n",
    "ax.set_ylim(0, 75)\n",
    "\n",
    "# Annotate\n",
    "for row in top20_not_disaster.itertuples():\n",
    "    ax.text(row.Index, row.cant+.5, s=round(row.cant, 2), horizontalalignment= 'center', verticalalignment='bottom', fontsize=14)\n",
    "\n",
    "plt.show()"
   ]
  },
  {
   "cell_type": "code",
   "execution_count": null,
   "metadata": {},
   "outputs": [],
   "source": [
    "df_not_disaster_by_keyword = df_not_disaster_lemmatized[['id', 'keyword_lemmatized']].groupby('keyword_lemmatized').count()\n",
    "df_not_disaster_by_keyword.sort_values('id', inplace=True)\n",
    "df_not_disaster_by_keyword.reset_index(inplace=True)\n",
    "top20_not_disaster = df_not_disaster_by_keyword.tail(20)\n",
    "# Draw plot\n",
    "fig, ax = plt.subplots(figsize=(14,7), dpi= 80)\n",
    "ax.vlines(x=top20_not_disaster.index, ymin=0, ymax=top20_not_disaster.id, color='midnightblue', alpha=0.7, linewidth=2)\n",
    "ax.scatter(x=top20_not_disaster.index, y=top20_not_disaster.id, s=75, color='midnightblue', alpha=0.7)\n",
    "\n",
    "# Title, Label, Ticks and Ylim\n",
    "ax.set_title('Top 20 Palabras Claves en Tweets que no son sobre Catástrofes', fontdict={'size':22})\n",
    "ax.set_ylabel('Cantidad de Tweets')\n",
    "ax.set_xticks(top20_not_disaster.index)\n",
    "ax.set_xticklabels(top20_not_disaster.keyword_lemmatized.str.upper(), rotation=60, fontdict={'horizontalalignment': 'right', 'size':12})\n",
    "ax.set_ylim(0, 78)\n",
    "\n",
    "# Annotate\n",
    "for row in top20_not_disaster.itertuples():\n",
    "    ax.text(row.Index, row.id+.5, s=round(row.id, 2), horizontalalignment= 'center', verticalalignment='bottom', fontsize=14)\n",
    "\n",
    "plt.show()"
   ]
  },
  {
   "cell_type": "markdown",
   "metadata": {},
   "source": [
    "### Analisis de ocurrencias de palabras descartando articulos, preposiciones, pronombres, etc\n"
   ]
  },
  {
   "cell_type": "code",
   "execution_count": null,
   "metadata": {},
   "outputs": [],
   "source": [
    "#metodo para analizar ocurrencias y cantidades\n",
    "short_train = train[['id','text','target']]\n",
    "a = short_train['text'].str.lower().str.cat(sep=' ')\n",
    "words = nltk.tokenize.word_tokenize(a)\n",
    "word_dist = nltk.FreqDist(words)\n",
    "print (word_dist)\n",
    "\n",
    "this_col = pd.Series(['word','frequency'])\n",
    "\n",
    "rslt = pd.DataFrame(word_dist.most_common(1000),columns = this_col)"
   ]
  },
  {
   "cell_type": "code",
   "execution_count": null,
   "metadata": {},
   "outputs": [],
   "source": [
    "rslt.iloc[950:955,]"
   ]
  },
  {
   "cell_type": "markdown",
   "metadata": {},
   "source": [
    "# 8. CREACION DE TAGS PARA CADA TWEET"
   ]
  },
  {
   "cell_type": "markdown",
   "metadata": {},
   "source": [
    "### 8.1 PROCESAMIENTO DE ARCHIVOS .txt PARA EL ARMADO DE UNA LISTA AMPLIA DE STOPWORDS\n"
   ]
  },
  {
   "cell_type": "code",
   "execution_count": null,
   "metadata": {},
   "outputs": [],
   "source": [
    "archivo_1 = open(\"99webtools.txt\", \"r\")\n",
    "listaPalabras_1 = []\n",
    "\n",
    "for line in archivo_1:\n",
    "    stripped_line = line. strip()\n",
    "    line_list = stripped_line\n",
    "    listaPalabras_1. append(line_list)\n",
    "archivo_1. close()"
   ]
  },
  {
   "cell_type": "code",
   "execution_count": null,
   "metadata": {},
   "outputs": [],
   "source": [
    "archivo_2 = open(\"atire_ncbi.txt\", \"r\")\n",
    "listaPalabras_2 = []\n",
    "\n",
    "for line in archivo_2:\n",
    "    stripped_line = line. strip()\n",
    "    line_list = stripped_line\n",
    "    listaPalabras_2. append(line_list)\n",
    "archivo_2. close()"
   ]
  },
  {
   "cell_type": "code",
   "execution_count": null,
   "metadata": {},
   "outputs": [],
   "source": [
    "archivo_3 = open(\"atire_puurula.txt\", \"r\")\n",
    "listaPalabras_3 = []\n",
    "\n",
    "for line in archivo_3:\n",
    "    stripped_line = line. strip()\n",
    "    line_list = stripped_line\n",
    "    listaPalabras_3. append(line_list)\n",
    "archivo_3. close()"
   ]
  },
  {
   "cell_type": "code",
   "execution_count": null,
   "metadata": {},
   "outputs": [],
   "source": [
    "archivo_4 = open(\"azure.txt\", \"r\")\n",
    "listaPalabras_4 = []\n",
    "\n",
    "for line in archivo_4:\n",
    "    stripped_line = line. strip()\n",
    "    line_list = stripped_line\n",
    "    listaPalabras_4. append(line_list)\n",
    "archivo_4. close()"
   ]
  },
  {
   "cell_type": "code",
   "execution_count": null,
   "metadata": {},
   "outputs": [],
   "source": [
    "archivo_5 = open(\"bbalet.txt\", \"r\")\n",
    "listaPalabras_5 = []\n",
    "\n",
    "for line in archivo_5:\n",
    "    stripped_line = line. strip()\n",
    "    line_list = stripped_line\n",
    "    listaPalabras_5. append(line_list)\n",
    "archivo_5. close()"
   ]
  },
  {
   "cell_type": "code",
   "execution_count": null,
   "metadata": {},
   "outputs": [],
   "source": [
    "archivo_6 = open(\"bow_short.txt\", \"r\")\n",
    "listaPalabras_6 = []\n",
    "\n",
    "for line in archivo_6:\n",
    "    stripped_line = line. strip()\n",
    "    line_list = stripped_line\n",
    "    listaPalabras_6. append(line_list)\n",
    "archivo_6. close()"
   ]
  },
  {
   "cell_type": "code",
   "execution_count": null,
   "metadata": {},
   "outputs": [],
   "source": [
    "archivo_7 = open(\"choi_2000naacl.txt\", \"r\")\n",
    "listaPalabras_7 = []\n",
    "\n",
    "for line in archivo_7:\n",
    "    stripped_line = line. strip()\n",
    "    line_list = stripped_line\n",
    "    listaPalabras_7. append(line_list)\n",
    "archivo_7. close()"
   ]
  },
  {
   "cell_type": "code",
   "execution_count": null,
   "metadata": {},
   "outputs": [],
   "source": [
    "archivo_8 = open(\"cook1988_function_words.txt\", \"r\")\n",
    "listaPalabras_8 = []\n",
    "\n",
    "for line in archivo_8:\n",
    "    stripped_line = line. strip()\n",
    "    line_list = stripped_line\n",
    "    listaPalabras_8. append(line_list)\n",
    "archivo_8. close()"
   ]
  },
  {
   "cell_type": "code",
   "execution_count": null,
   "metadata": {},
   "outputs": [],
   "source": [
    "archivo_9 = open(\"corenlp_acronym.txt\", \"r\")\n",
    "listaPalabras_9 = []\n",
    "\n",
    "for line in archivo_9:\n",
    "    stripped_line = line. strip()\n",
    "    line_list = stripped_line\n",
    "    listaPalabras_9. append(line_list)\n",
    "archivo_9. close()"
   ]
  },
  {
   "cell_type": "code",
   "execution_count": null,
   "metadata": {},
   "outputs": [],
   "source": [
    "archivo_10 = open(\"corenlp_hardcoded.txt\", \"r\",encoding=\"utf8\")\n",
    "listaPalabras_10 = []\n",
    "\n",
    "for line in archivo_10:\n",
    "    stripped_line = line. strip()\n",
    "    line_list = stripped_line\n",
    "    listaPalabras_10. append(line_list)\n",
    "archivo_10. close()"
   ]
  },
  {
   "cell_type": "code",
   "execution_count": null,
   "metadata": {},
   "outputs": [],
   "source": [
    "archivo_11 = open(\"corenlp_stopwords.txt\", \"r\")\n",
    "listaPalabras_11 = []\n",
    "\n",
    "for line in archivo_11:\n",
    "    stripped_line = line. strip()\n",
    "    line_list = stripped_line\n",
    "    listaPalabras_11. append(line_list)\n",
    "archivo_11. close()"
   ]
  },
  {
   "cell_type": "code",
   "execution_count": null,
   "metadata": {},
   "outputs": [],
   "source": [
    "archivo_12 = open(\"datasciencedojo.txt\", \"r\")\n",
    "listaPalabras_12 = []\n",
    "\n",
    "for line in archivo_12:\n",
    "    stripped_line = line. strip()\n",
    "    line_list = stripped_line\n",
    "    listaPalabras_12. append(line_list)\n",
    "archivo_12. close()"
   ]
  },
  {
   "cell_type": "code",
   "execution_count": null,
   "metadata": {},
   "outputs": [],
   "source": [
    "archivo_13 = open(\"deeplearning4j.txt\", \"r\")\n",
    "listaPalabras_13 = []\n",
    "\n",
    "for line in archivo_13:\n",
    "    stripped_line = line. strip()\n",
    "    line_list = stripped_line\n",
    "    listaPalabras_13. append(line_list)\n",
    "archivo_13. close()"
   ]
  },
  {
   "cell_type": "code",
   "execution_count": null,
   "metadata": {},
   "outputs": [],
   "source": [
    "archivo_14 = open(\"dkpro.txt\", \"r\")\n",
    "listaPalabras_14 = []\n",
    "\n",
    "for line in archivo_14:\n",
    "    stripped_line = line. strip()\n",
    "    line_list = stripped_line\n",
    "    listaPalabras_14. append(line_list)\n",
    "archivo_14. close()"
   ]
  },
  {
   "cell_type": "code",
   "execution_count": null,
   "metadata": {},
   "outputs": [],
   "source": [
    "archivo_15 = open(\"mongodb.txt\", \"r\")\n",
    "listaPalabras_15 = []\n",
    "\n",
    "for line in archivo_15:\n",
    "    stripped_line = line. strip()\n",
    "    line_list = stripped_line\n",
    "    listaPalabras_15. append(line_list)\n",
    "archivo_15. close()"
   ]
  },
  {
   "cell_type": "code",
   "execution_count": null,
   "metadata": {},
   "outputs": [],
   "source": [
    "archivo_16 = open(\"galago_inquery.txt\", \"r\")\n",
    "listaPalabras_16 = []\n",
    "\n",
    "for line in archivo_16:\n",
    "    stripped_line = line. strip()\n",
    "    line_list = stripped_line\n",
    "    listaPalabras_16. append(line_list)\n",
    "archivo_16. close()"
   ]
  },
  {
   "cell_type": "code",
   "execution_count": null,
   "metadata": {},
   "outputs": [],
   "source": [
    "archivo_17 = open(\"gate_keyphrase.txt\", \"r\")\n",
    "listaPalabras_17 = []\n",
    "\n",
    "for line in archivo_17:\n",
    "    stripped_line = line. strip()\n",
    "    line_list = stripped_line\n",
    "    listaPalabras_17. append(line_list)\n",
    "archivo_17. close()"
   ]
  },
  {
   "cell_type": "code",
   "execution_count": null,
   "metadata": {},
   "outputs": [],
   "source": [
    "archivo_18 = open(\"gensim.txt\", \"r\")\n",
    "listaPalabras_18 = []\n",
    "\n",
    "for line in archivo_18:\n",
    "    stripped_line = line. strip()\n",
    "    line_list = stripped_line\n",
    "    listaPalabras_18. append(line_list)\n",
    "archivo_18. close()"
   ]
  },
  {
   "cell_type": "code",
   "execution_count": null,
   "metadata": {},
   "outputs": [],
   "source": [
    "archivo_19 = open(\"glasgow_stop_words.txt\", \"r\")\n",
    "listaPalabras_19 = []\n",
    "\n",
    "for line in archivo_19:\n",
    "    stripped_line = line. strip()\n",
    "    line_list = stripped_line\n",
    "    listaPalabras_19. append(line_list)\n",
    "archivo_19. close()"
   ]
  },
  {
   "cell_type": "code",
   "execution_count": null,
   "metadata": {},
   "outputs": [],
   "source": [
    "archivo_20 = open(\"indri.txt\", \"r\")\n",
    "listaPalabras_20 = []\n",
    "\n",
    "for line in archivo_20:\n",
    "    stripped_line = line. strip()\n",
    "    line_list = stripped_line\n",
    "    listaPalabras_20. append(line_list)\n",
    "archivo_20. close()"
   ]
  },
  {
   "cell_type": "code",
   "execution_count": null,
   "metadata": {},
   "outputs": [],
   "source": [
    "archivo_21 = open(\"kevinbouge.txt\", \"r\")\n",
    "listaPalabras_21 = []\n",
    "\n",
    "for line in archivo_21:\n",
    "    stripped_line = line. strip()\n",
    "    line_list = stripped_line\n",
    "    listaPalabras_21. append(line_list)\n",
    "archivo_21. close()"
   ]
  },
  {
   "cell_type": "code",
   "execution_count": null,
   "metadata": {},
   "outputs": [],
   "source": [
    "archivo_22 = open(\"lexisnexis.txt\", \"r\")\n",
    "listaPalabras_22 = []\n",
    "\n",
    "for line in archivo_22:\n",
    "    stripped_line = line. strip()\n",
    "    line_list = stripped_line\n",
    "    listaPalabras_22. append(line_list)\n",
    "archivo_22. close()"
   ]
  },
  {
   "cell_type": "code",
   "execution_count": null,
   "metadata": {},
   "outputs": [],
   "source": [
    "archivo_23 = open(\"lingpipe.txt\", \"r\")\n",
    "listaPalabras_23 = []\n",
    "\n",
    "for line in archivo_23:\n",
    "    stripped_line = line. strip()\n",
    "    line_list = stripped_line\n",
    "    listaPalabras_23. append(line_list)\n",
    "archivo_23. close()"
   ]
  },
  {
   "cell_type": "code",
   "execution_count": null,
   "metadata": {},
   "outputs": [],
   "source": [
    "archivo_24 = open(\"mallet.txt\", \"r\")\n",
    "listaPalabras_24 = []\n",
    "\n",
    "for line in archivo_24:\n",
    "    stripped_line = line. strip()\n",
    "    line_list = stripped_line\n",
    "    listaPalabras_24. append(line_list)\n",
    "archivo_24. close()"
   ]
  },
  {
   "cell_type": "code",
   "execution_count": null,
   "metadata": {},
   "outputs": [],
   "source": [
    "archivo_25 = open(\"mysql_innodb.txt\", \"r\")\n",
    "listaPalabras_25 = []\n",
    "\n",
    "for line in archivo_25:\n",
    "    stripped_line = line. strip()\n",
    "    line_list = stripped_line\n",
    "    listaPalabras_25. append(line_list)\n",
    "archivo_25. close()"
   ]
  },
  {
   "cell_type": "code",
   "execution_count": null,
   "metadata": {},
   "outputs": [],
   "source": [
    "archivo_26 = open(\"mysql_myisam.txt\", \"r\")\n",
    "listaPalabras_26 = []\n",
    "\n",
    "for line in archivo_26:\n",
    "    stripped_line = line. strip()\n",
    "    line_list = stripped_line\n",
    "    listaPalabras_26. append(line_list)\n",
    "archivo_26. close()"
   ]
  },
  {
   "cell_type": "code",
   "execution_count": null,
   "metadata": {},
   "outputs": [],
   "source": [
    "archivo_27 = open(\"galago_rmstop.txt\", \"r\", encoding=\"utf8\")\n",
    "listaPalabras_27 = []\n",
    "\n",
    "for line in archivo_27:\n",
    "    stripped_line = line. strip()\n",
    "    line_list = stripped_line\n",
    "    listaPalabras_27. append(line_list)\n",
    "archivo_27. close()"
   ]
  },
  {
   "cell_type": "code",
   "execution_count": null,
   "metadata": {},
   "outputs": [],
   "source": [
    "archivo_28 = open(\"atire_ncbi.txt\", \"r\", encoding=\"utf8\")\n",
    "listaPalabras_28 = []\n",
    "\n",
    "for line in archivo_28:\n",
    "    stripped_line = line. strip()\n",
    "    line_list = stripped_line\n",
    "    listaPalabras_28. append(line_list)\n",
    "archivo_28. close()"
   ]
  },
  {
   "cell_type": "code",
   "execution_count": null,
   "metadata": {},
   "outputs": [],
   "source": [
    "archivo_29 = open(\"galago_rmstop.txt\", \"r\", encoding=\"utf8\")\n",
    "listaPalabras_29 = []\n",
    "\n",
    "for line in archivo_29:\n",
    "    stripped_line = line. strip()\n",
    "    line_list = stripped_line\n",
    "    listaPalabras_29. append(line_list)\n",
    "archivo_29. close()"
   ]
  },
  {
   "cell_type": "code",
   "execution_count": null,
   "metadata": {},
   "outputs": [],
   "source": [
    "archivo_30 = open(\"nltk.txt\", \"r\", encoding=\"utf8\")\n",
    "listaPalabras_30 = []\n",
    "\n",
    "for line in archivo_30:\n",
    "    stripped_line = line. strip()\n",
    "    line_list = stripped_line\n",
    "    listaPalabras_30. append(line_list)\n",
    "archivo_30. close()"
   ]
  },
  {
   "cell_type": "code",
   "execution_count": null,
   "metadata": {},
   "outputs": [],
   "source": [
    "archivo_31 = open(\"okapiframework.txt\", \"r\", encoding=\"utf8\")\n",
    "listaPalabras_31 = []\n",
    "\n",
    "for line in archivo_31:\n",
    "    stripped_line = line. strip()\n",
    "    line_list = stripped_line\n",
    "    listaPalabras_31. append(line_list)\n",
    "archivo_31. close()"
   ]
  },
  {
   "cell_type": "code",
   "execution_count": null,
   "metadata": {},
   "outputs": [],
   "source": [
    "archivo_32 = open(\"okapi_cacm_expanded.txt\", \"r\", encoding=\"utf8\")\n",
    "listaPalabras_32 = []\n",
    "\n",
    "for line in archivo_32:\n",
    "    stripped_line = line. strip()\n",
    "    line_list = stripped_line\n",
    "    listaPalabras_32. append(line_list)\n",
    "archivo_32. close()"
   ]
  },
  {
   "cell_type": "code",
   "execution_count": null,
   "metadata": {},
   "outputs": [],
   "source": [
    "archivo_33 = open(\"onix.txt\", \"r\", encoding=\"utf8\")\n",
    "listaPalabras_33 = []\n",
    "\n",
    "for line in archivo_33:\n",
    "    stripped_line = line. strip()\n",
    "    line_list = stripped_line\n",
    "    listaPalabras_33. append(line_list)\n",
    "archivo_33. close()"
   ]
  },
  {
   "cell_type": "code",
   "execution_count": null,
   "metadata": {},
   "outputs": [],
   "source": [
    "archivo_34 = open(\"ovid.txt\", \"r\", encoding=\"utf8\")\n",
    "listaPalabras_34 = []\n",
    "\n",
    "for line in archivo_34:\n",
    "    stripped_line = line. strip()\n",
    "    line_list = stripped_line\n",
    "    listaPalabras_34. append(line_list)\n",
    "archivo_34. close()"
   ]
  },
  {
   "cell_type": "code",
   "execution_count": null,
   "metadata": {},
   "outputs": [],
   "source": [
    "archivo_35 = open(\"postgresql.txt\", \"r\", encoding=\"utf8\")\n",
    "listaPalabras_35 = []\n",
    "\n",
    "for line in archivo_35:\n",
    "    stripped_line = line. strip()\n",
    "    line_list = stripped_line\n",
    "    listaPalabras_35. append(line_list)\n",
    "archivo_35. close()"
   ]
  },
  {
   "cell_type": "code",
   "execution_count": null,
   "metadata": {},
   "outputs": [],
   "source": [
    "archivo_36 = open(\"pubmed.txt\", \"r\", encoding=\"utf8\")\n",
    "listaPalabras_36 = []\n",
    "\n",
    "for line in archivo_36:\n",
    "    stripped_line = line. strip()\n",
    "    line_list = stripped_line\n",
    "    listaPalabras_36. append(line_list)\n",
    "archivo_36. close()"
   ]
  },
  {
   "cell_type": "code",
   "execution_count": null,
   "metadata": {},
   "outputs": [],
   "source": [
    "archivo_37 = open(\"quanteda.txt\", \"r\", encoding=\"utf8\")\n",
    "listaPalabras_37 = []\n",
    "\n",
    "for line in archivo_37:\n",
    "    stripped_line = line. strip()\n",
    "    line_list = stripped_line\n",
    "    listaPalabras_37. append(line_list)\n",
    "archivo_37. close()"
   ]
  },
  {
   "cell_type": "code",
   "execution_count": null,
   "metadata": {},
   "outputs": [],
   "source": [
    "archivo_38 = open(\"r_tm.txt\", \"r\", encoding=\"utf8\")\n",
    "listaPalabras_38 = []\n",
    "\n",
    "for line in archivo_38:\n",
    "    stripped_line = line. strip()\n",
    "    line_list = stripped_line\n",
    "    listaPalabras_38. append(line_list)\n",
    "archivo_38. close()"
   ]
  },
  {
   "cell_type": "code",
   "execution_count": null,
   "metadata": {},
   "outputs": [],
   "source": [
    "archivo_39 = open(\"ranksnl_large.txt\", \"r\", encoding=\"utf8\")\n",
    "listaPalabras_39 = []\n",
    "\n",
    "for line in archivo_39:\n",
    "    stripped_line = line. strip()\n",
    "    line_list = stripped_line\n",
    "    listaPalabras_39. append(line_list)\n",
    "archivo_39. close()"
   ]
  },
  {
   "cell_type": "code",
   "execution_count": null,
   "metadata": {},
   "outputs": [],
   "source": [
    "archivo_40 = open(\"reuters_wos.txt\", \"r\", encoding=\"utf8\")\n",
    "listaPalabras_40 = []\n",
    "\n",
    "for line in archivo_40:\n",
    "    stripped_line = line. strip()\n",
    "    line_list = stripped_line\n",
    "    listaPalabras_40. append(line_list)\n",
    "archivo_40. close()"
   ]
  },
  {
   "cell_type": "code",
   "execution_count": null,
   "metadata": {},
   "outputs": [],
   "source": [
    "archivo_41 = open(\"rouge_155.txt\", \"r\", encoding=\"utf8\")\n",
    "listaPalabras_41 = []\n",
    "\n",
    "for line in archivo_41:\n",
    "    stripped_line = line. strip()\n",
    "    line_list = stripped_line\n",
    "    listaPalabras_41. append(line_list)\n",
    "archivo_41. close()"
   ]
  },
  {
   "cell_type": "code",
   "execution_count": null,
   "metadata": {},
   "outputs": [],
   "source": [
    "archivo_42 = open(\"scikitlearn.txt\", \"r\", encoding=\"utf8\")\n",
    "listaPalabras_42 = []\n",
    "\n",
    "for line in archivo_42:\n",
    "    stripped_line = line. strip()\n",
    "    line_list = stripped_line\n",
    "    listaPalabras_42. append(line_list)\n",
    "archivo_42. close()"
   ]
  },
  {
   "cell_type": "code",
   "execution_count": null,
   "metadata": {},
   "outputs": [],
   "source": [
    "archivo_43 = open(\"smart.txt\", \"r\", encoding=\"utf8\")\n",
    "listaPalabras_43 = []\n",
    "\n",
    "for line in archivo_43:\n",
    "    stripped_line = line. strip()\n",
    "    line_list = stripped_line\n",
    "    listaPalabras_43. append(line_list)\n",
    "archivo_43. close()"
   ]
  },
  {
   "cell_type": "code",
   "execution_count": null,
   "metadata": {},
   "outputs": [],
   "source": [
    "archivo_44 = open(\"snowball_expanded.txt\", \"r\", encoding=\"utf8\")\n",
    "listaPalabras_44 = []\n",
    "\n",
    "for line in archivo_44:\n",
    "    stripped_line = line. strip()\n",
    "    line_list = stripped_line\n",
    "    listaPalabras_44. append(line_list)\n",
    "archivo_44. close()"
   ]
  },
  {
   "cell_type": "code",
   "execution_count": null,
   "metadata": {},
   "outputs": [],
   "source": [
    "archivo_45 = open(\"spacy.txt\", \"r\", encoding=\"utf8\")\n",
    "listaPalabras_45 = []\n",
    "\n",
    "for line in archivo_45:\n",
    "    stripped_line = line. strip()\n",
    "    line_list = stripped_line\n",
    "    listaPalabras_45. append(line_list)\n",
    "archivo_45. close()"
   ]
  },
  {
   "cell_type": "code",
   "execution_count": null,
   "metadata": {},
   "outputs": [],
   "source": [
    "archivo_46 = open(\"spark_mllib.txt\", \"r\", encoding=\"utf8\")\n",
    "listaPalabras_46 = []\n",
    "\n",
    "for line in archivo_46:\n",
    "    stripped_line = line. strip()\n",
    "    line_list = stripped_line\n",
    "    listaPalabras_46. append(line_list)\n",
    "archivo_46. close()"
   ]
  },
  {
   "cell_type": "code",
   "execution_count": null,
   "metadata": {},
   "outputs": [],
   "source": [
    "archivo_47 = open(\"sphinx_mirasvit.txt\", \"r\", encoding=\"utf8\")\n",
    "listaPalabras_47 = []\n",
    "\n",
    "for line in archivo_47:\n",
    "    stripped_line = line. strip()\n",
    "    line_list = stripped_line\n",
    "    listaPalabras_47. append(line_list)\n",
    "archivo_47. close()"
   ]
  },
  {
   "cell_type": "code",
   "execution_count": null,
   "metadata": {},
   "outputs": [],
   "source": [
    "archivo_48 = open(\"t101_minimal.txt\", \"r\", encoding=\"utf8\")\n",
    "listaPalabras_48 = []\n",
    "\n",
    "for line in archivo_48:\n",
    "    stripped_line = line. strip()\n",
    "    line_list = stripped_line\n",
    "    listaPalabras_48. append(line_list)\n",
    "archivo_48. close()"
   ]
  },
  {
   "cell_type": "code",
   "execution_count": null,
   "metadata": {},
   "outputs": [],
   "source": [
    "archivo_49 = open(\"taporware.txt\", \"r\", encoding=\"utf8\")\n",
    "listaPalabras_49 = []\n",
    "\n",
    "for line in archivo_49:\n",
    "    stripped_line = line. strip()\n",
    "    line_list = stripped_line\n",
    "    listaPalabras_49. append(line_list)\n",
    "archivo_49. close()"
   ]
  },
  {
   "cell_type": "code",
   "execution_count": null,
   "metadata": {},
   "outputs": [],
   "source": [
    "archivo_50 = open(\"terrier.txt\", \"r\", encoding=\"utf8\")\n",
    "listaPalabras_50 = []\n",
    "\n",
    "for line in archivo_50:\n",
    "    stripped_line = line. strip()\n",
    "    line_list = stripped_line\n",
    "    listaPalabras_50. append(line_list)\n",
    "archivo_50. close()"
   ]
  },
  {
   "cell_type": "code",
   "execution_count": null,
   "metadata": {},
   "outputs": [],
   "source": [
    "archivo_51 = open(\"tonybsk_1.txt\", \"r\", encoding=\"utf8\")\n",
    "listaPalabras_51 = []\n",
    "\n",
    "for line in archivo_51:\n",
    "    stripped_line = line. strip()\n",
    "    line_list = stripped_line\n",
    "    listaPalabras_51. append(line_list)\n",
    "archivo_51. close()"
   ]
  },
  {
   "cell_type": "code",
   "execution_count": null,
   "metadata": {},
   "outputs": [],
   "source": [
    "archivo_52 = open(\"tonybsk_6.txt\", \"r\", encoding=\"utf8\")\n",
    "listaPalabras_52 = []\n",
    "\n",
    "for line in archivo_52:\n",
    "    stripped_line = line. strip()\n",
    "    line_list = stripped_line\n",
    "    listaPalabras_52. append(line_list)\n",
    "archivo_52. close()"
   ]
  },
  {
   "cell_type": "code",
   "execution_count": null,
   "metadata": {},
   "outputs": [],
   "source": [
    "archivo_53 = open(\"voyant_taporware.txt\", \"r\", encoding=\"utf8\")\n",
    "listaPalabras_53 = []\n",
    "\n",
    "for line in archivo_53:\n",
    "    stripped_line = line. strip()\n",
    "    line_list = stripped_line\n",
    "    listaPalabras_53. append(line_list)\n",
    "archivo_53. close()"
   ]
  },
  {
   "cell_type": "code",
   "execution_count": null,
   "metadata": {},
   "outputs": [],
   "source": [
    "archivo_54 = open(\"weka.txt\", \"r\", encoding=\"utf8\")\n",
    "listaPalabras_54 = []\n",
    "\n",
    "for line in archivo_54:\n",
    "    stripped_line = line. strip()\n",
    "    line_list = stripped_line\n",
    "    listaPalabras_54. append(line_list)\n",
    "archivo_54. close()"
   ]
  },
  {
   "cell_type": "code",
   "execution_count": null,
   "metadata": {},
   "outputs": [],
   "source": [
    "archivo_55 = open(\"xapian.txt\", \"r\", encoding=\"utf8\")\n",
    "listaPalabras_55 = []\n",
    "\n",
    "for line in archivo_55:\n",
    "    stripped_line = line. strip()\n",
    "    line_list = stripped_line\n",
    "    listaPalabras_55. append(line_list)\n",
    "archivo_55. close()"
   ]
  },
  {
   "cell_type": "code",
   "execution_count": null,
   "metadata": {},
   "outputs": [],
   "source": [
    "archivo_56 = open(\"xpo6.txt\", \"r\", encoding=\"utf8\")\n",
    "listaPalabras_56 = []\n",
    "\n",
    "for line in archivo_56:\n",
    "    stripped_line = line. strip()\n",
    "    line_list = stripped_line\n",
    "    listaPalabras_56. append(line_list)\n",
    "archivo_56. close()"
   ]
  },
  {
   "cell_type": "code",
   "execution_count": null,
   "metadata": {},
   "outputs": [],
   "source": [
    "archivo_57 = open(\"zettair.txt\", \"r\", encoding=\"utf8\")\n",
    "listaPalabras_57 = []\n",
    "\n",
    "for line in archivo_57:\n",
    "    stripped_line = line. strip()\n",
    "    line_list = stripped_line\n",
    "    listaPalabras_57. append(line_list)\n",
    "archivo_57. close()"
   ]
  },
  {
   "cell_type": "code",
   "execution_count": null,
   "metadata": {},
   "outputs": [],
   "source": [
    "nueva_lista = list(itertools.chain(listaPalabras_1,listaPalabras_2,listaPalabras_3,listaPalabras_4,listaPalabras_5,listaPalabras_6,\n",
    "                                  listaPalabras_7,listaPalabras_8,listaPalabras_9,listaPalabras_10,listaPalabras_11,listaPalabras_12,\n",
    "                                  listaPalabras_13,listaPalabras_14,listaPalabras_15,listaPalabras_16,listaPalabras_17,listaPalabras_18,\n",
    "                                  listaPalabras_19,listaPalabras_20,listaPalabras_21,listaPalabras_22,listaPalabras_23,listaPalabras_24,\n",
    "                                  listaPalabras_25,listaPalabras_26,listaPalabras_27,listaPalabras_28,listaPalabras_29,listaPalabras_30,\n",
    "                                  listaPalabras_31,listaPalabras_32,listaPalabras_33,listaPalabras_34,listaPalabras_35,listaPalabras_36,\n",
    "                                  listaPalabras_37,listaPalabras_38,listaPalabras_39,listaPalabras_40,listaPalabras_41,listaPalabras_42,\n",
    "                                  listaPalabras_43,listaPalabras_44,listaPalabras_45,listaPalabras_46,listaPalabras_47,listaPalabras_48,\n",
    "                                  listaPalabras_49,listaPalabras_50,listaPalabras_51,listaPalabras_52,listaPalabras_53,listaPalabras_54,\n",
    "                                   listaPalabras_55, listaPalabras_56,listaPalabras_57))"
   ]
  },
  {
   "cell_type": "code",
   "execution_count": null,
   "metadata": {},
   "outputs": [],
   "source": [
    "#LIMPIEZA DE LA LISTA CREADA A PARTIR DE LOS ARCHIVOS .txt\n",
    "stopwords_large = []\n",
    "for word in nueva_lista:\n",
    "       if word not in stopwords_large:\n",
    "          stopwords_large.append(word)\n",
    "print(len(stopwords_large))"
   ]
  },
  {
   "cell_type": "markdown",
   "metadata": {},
   "source": [
    "### 8.2 Limpieza de los campos para obtener tags"
   ]
  },
  {
   "cell_type": "code",
   "execution_count": null,
   "metadata": {},
   "outputs": [],
   "source": [
    "short_train = train[['id','text','target']].copy(deep=True)\n",
    "short_train"
   ]
  },
  {
   "cell_type": "code",
   "execution_count": null,
   "metadata": {},
   "outputs": [],
   "source": [
    "short_train['new'] = short_train.text.apply(lambda x: x.lower())\n",
    "\n",
    "short_train.new.replace('\\d+', '', regex=True, inplace=True)\n",
    "\n",
    "invalid_chars = ['#','|','@','!','?','-','_','[',']','%','&',':','.',',',\"''\",'/','https','(','//t',')','http',\n",
    "                 ';','#']\n",
    "\n",
    "def removeInvalidChars(string):\n",
    "    for char in invalid_chars:\n",
    "        if char in string:\n",
    "            string = string.replace(char,' ')\n",
    "    return string\n",
    "\n",
    "def removeUrlAndTags(string):\n",
    "    string = re.sub(r\"(?:\\@|https?\\://)\\S+\", \" \",  string)\n",
    "    return string\n",
    "\n",
    "short_train.new = short_train.new.apply(removeUrlAndTags)\n",
    "short_train.new = short_train.new.apply(removeInvalidChars)"
   ]
  },
  {
   "cell_type": "code",
   "execution_count": null,
   "metadata": {},
   "outputs": [],
   "source": [
    "short_train"
   ]
  },
  {
   "cell_type": "markdown",
   "metadata": {},
   "source": [
    "### 8.3 Eliminacion de terminos, caracteres y stopwords innecesarios para generar los tags"
   ]
  },
  {
   "cell_type": "code",
   "execution_count": null,
   "metadata": {},
   "outputs": [],
   "source": [
    "def prettify(word_list):\n",
    "    wl = []\n",
    "    for word in word_list:\n",
    "        word = re.sub(r'[^A-Za-z]', \" \",  word)\n",
    "        word = re.sub(r'\\b\\w\\b',' ', word)\n",
    "        word = re.sub(r'\\s+', ' ', word)\n",
    "        wl.append(word.strip())\n",
    "    return wl"
   ]
  },
  {
   "cell_type": "code",
   "execution_count": null,
   "metadata": {},
   "outputs": [],
   "source": [
    "#deep copy\n",
    "short_train2 = short_train[['id','text','new','target']].copy(deep=True)\n",
    "\n",
    "#convierte de list a string\n",
    "short_train2['new'] = short_train2['new'].apply(lambda x: [item for item in x.split() if item not in stopwords_large])\n",
    "\n",
    "#short_train2['new'] = short_train2.new.astype(str).str.replace('\\[|\\]|\\'', '')\n",
    "\n",
    "#short_train2.new = short_train2.new.apply(lambda x: x.replace(',',''))\n",
    "#short_train2.new = short_train2.new.apply(lambda x: x.replace('\"',''))\n",
    "#short_train2.new = short_train2.new.apply(lambda x: x.replace(\"'\",''))\n",
    "\n",
    "#elimina todas las letras sueltas\n",
    "#short_train2.new.str.replace(r'\\b\\w\\b','').str.replace(r'\\s+', '')\n",
    "\n",
    "#elimina todos los numeros\n",
    "#short_train2.new.replace('\\d+', '', regex=True, inplace=True)\n",
    "\n",
    "short_train2.new = short_train2.new.apply(prettify)\n",
    "short_train2.head(13)"
   ]
  },
  {
   "cell_type": "markdown",
   "metadata": {},
   "source": [
    "### 8.4 Tokenization"
   ]
  },
  {
   "cell_type": "code",
   "execution_count": null,
   "metadata": {},
   "outputs": [],
   "source": [
    "#tokenize\n",
    "w_tokenizer = nltk.tokenize.WhitespaceTokenizer()\n",
    "lemmatizer = nltk.stem.WordNetLemmatizer()\n",
    "\n",
    "def lemmatize_text(word_list):\n",
    "    text = ' '\n",
    "    text = text.join(word_list)\n",
    "    return [lemmatizer.lemmatize(w) for w in w_tokenizer.tokenize(text)]\n",
    "\n",
    "short_train2['new_tokenized'] = short_train2.new.apply(lemmatize_text)\n",
    "\n",
    "#convierte de list a string\n",
    "#short_train2['new_new_tokenized'] = short_train2.new_tokenized.astype(str).str.replace('\\[|\\]|\\'', '')\n",
    "\n",
    "#short_train2.new_new_tokenized = short_train2.new_new_tokenized.apply(lambda x: x.replace(',',''))\n",
    "#short_train2.new_new_tokenized = short_train2.new_new_tokenized.apply(lambda x: x.replace('\"',''))\n",
    "#short_train2.new_new_tokenized = short_train2.new_new_tokenized.apply(lambda x: x.replace(\"'\",''))\n",
    "\n",
    "#elimina todos los numeros\n",
    "#short_train2.new_new_tokenized.replace('\\d+', '', regex=True, inplace=True)\n",
    "\n",
    "#elimina todas las letras sueltas\n",
    "#short_train2.new_new_tokenized.str.replace(r'\\b\\w\\b','').str.replace(r'\\s+', '')\n",
    "\n",
    "short_train2.new_tokenized = short_train2.new_tokenized.apply(prettify)\n",
    "short_train2.head(13)"
   ]
  },
  {
   "cell_type": "markdown",
   "metadata": {},
   "source": [
    "### 8.5 Analisis de ocurrencias y cantidades"
   ]
  },
  {
   "cell_type": "code",
   "execution_count": null,
   "metadata": {},
   "outputs": [],
   "source": [
    "def getText(word_list):\n",
    "    text = ' '\n",
    "    text = text.join(word_list)\n",
    "    return text\n",
    "\n",
    "#metodo para analizar ocurrencias y cantidades\n",
    "a = short_train2['new_tokenized'].apply(getText).str.lower().str.cat(sep=' ')\n",
    "\n",
    "words = nltk.tokenize.word_tokenize(a)\n",
    "word_dist = nltk.FreqDist(words)\n",
    "print (word_dist)\n",
    "\n",
    "this_col = pd.Series(['word','frequency'])\n",
    "\n",
    "rslt = pd.DataFrame(word_dist.most_common(400),columns = this_col)"
   ]
  },
  {
   "cell_type": "code",
   "execution_count": null,
   "metadata": {},
   "outputs": [],
   "source": [
    "rslt.iloc[0:10,]"
   ]
  },
  {
   "cell_type": "code",
   "execution_count": null,
   "metadata": {},
   "outputs": [],
   "source": [
    "frequent_words = rslt ['word']\n",
    "nuevo = set(frequent_words)"
   ]
  },
  {
   "cell_type": "markdown",
   "metadata": {},
   "source": [
    "### Se genera columna con tags a partir de una cantidad de ocurrencias destacadas"
   ]
  },
  {
   "cell_type": "code",
   "execution_count": null,
   "metadata": {},
   "outputs": [],
   "source": [
    "def word_finder(x):\n",
    "    x = set(x)\n",
    "    return list(nuevo.intersection(x))\n",
    "\n",
    "short_train2['tags'] = short_train2.new_tokenized.apply(word_finder)\n",
    "train_and_tags = short_train2[['id','target','text','tags']]\n",
    "train_and_tags"
   ]
  },
  {
   "cell_type": "markdown",
   "metadata": {},
   "source": [
    "# 9. CALCULO DE PROBABILIDAD DE VERACIDAD PARA CIERTO TAG"
   ]
  },
  {
   "cell_type": "markdown",
   "metadata": {},
   "source": [
    "### 9.1 Tagging para tweets reales y falsos por separado"
   ]
  },
  {
   "cell_type": "code",
   "execution_count": null,
   "metadata": {},
   "outputs": [],
   "source": [
    "short_train2_int = short_train2[['id','new_tokenized','target']]\n",
    "short_train2_int"
   ]
  },
  {
   "cell_type": "code",
   "execution_count": null,
   "metadata": {},
   "outputs": [],
   "source": [
    "short_train2_real = short_train2_int[short_train2_int['target']==True]\n",
    "short_train2_real.head()"
   ]
  },
  {
   "cell_type": "code",
   "execution_count": null,
   "metadata": {},
   "outputs": [],
   "source": [
    "short_train2_fake = short_train2_int[short_train2_int['target']==False]\n",
    "short_train2_fake.head()"
   ]
  },
  {
   "cell_type": "code",
   "execution_count": null,
   "metadata": {},
   "outputs": [],
   "source": [
    "#metodo para analizar ocurrencias y cantidades para tweets reales\n",
    "a = short_train2_real['new_tokenized'].apply(getText).str.lower().str.cat(sep=' ')\n",
    "words = nltk.tokenize.word_tokenize(a)\n",
    "word_dist = nltk.FreqDist(words)\n",
    "print (word_dist)\n",
    "\n",
    "this_col = pd.Series(['word','frequency'])\n",
    "\n",
    "high_freq_real = pd.DataFrame(word_dist.most_common(400),columns = this_col)\n",
    "high_freq_real.head(1)"
   ]
  },
  {
   "cell_type": "code",
   "execution_count": null,
   "metadata": {},
   "outputs": [],
   "source": [
    "#metodo para analizar ocurrencias y cantidades para tweets falsos\n",
    "a = short_train2_fake['new_tokenized'].apply(getText).str.lower().str.cat(sep=' ')\n",
    "words = nltk.tokenize.word_tokenize(a)\n",
    "word_dist = nltk.FreqDist(words)\n",
    "print (word_dist)\n",
    "\n",
    "this_col = pd.Series(['word','frequency'])\n",
    "\n",
    "high_freq_fake = pd.DataFrame(word_dist.most_common(400),columns = this_col)\n",
    "high_freq_fake.head(1)"
   ]
  },
  {
   "cell_type": "code",
   "execution_count": null,
   "metadata": {},
   "outputs": [],
   "source": [
    "#mergeamos los dataframes\n",
    "real_vs_fake_freq = pd.merge(high_freq_real , high_freq_fake, on = 'word')\n",
    "real_vs_fake_freq.head(1)"
   ]
  },
  {
   "cell_type": "code",
   "execution_count": null,
   "metadata": {},
   "outputs": [],
   "source": [
    "#renombre de columnas\n",
    "real_vs_fake_freq.columns = ['tag','#real_tweets','#fake_tweets']\n",
    "real_vs_fake_freq.head(1)"
   ]
  },
  {
   "cell_type": "code",
   "execution_count": null,
   "metadata": {},
   "outputs": [],
   "source": [
    "#anadimos columna total\n",
    "real_vs_fake_freq['total'] = real_vs_fake_freq['#real_tweets'] + real_vs_fake_freq['#fake_tweets']\n",
    "real_vs_fake_freq.head(1)"
   ]
  },
  {
   "cell_type": "code",
   "execution_count": null,
   "metadata": {},
   "outputs": [],
   "source": [
    "real_vs_fake_freq['prob_veracidad'] = real_vs_fake_freq['#real_tweets']/real_vs_fake_freq['total']\n",
    "real_vs_fake_freq.head(1)"
   ]
  },
  {
   "cell_type": "code",
   "execution_count": null,
   "metadata": {},
   "outputs": [],
   "source": [
    "#me quedo con la columna q me interesa\n",
    "probability_by_tag = real_vs_fake_freq[['tag','prob_veracidad']]\n",
    "probability_by_tag.head(1)"
   ]
  },
  {
   "cell_type": "code",
   "execution_count": null,
   "metadata": {},
   "outputs": [],
   "source": [
    "probability_by_tag_indexed = probability_by_tag.set_index('tag')"
   ]
  },
  {
   "cell_type": "code",
   "execution_count": null,
   "metadata": {},
   "outputs": [],
   "source": [
    "probability_by_tag_indexed_bottom = probability_by_tag_indexed.sort_values('prob_veracidad')\n",
    "probability_by_tag_indexed_bottom.head(1)"
   ]
  },
  {
   "cell_type": "code",
   "execution_count": null,
   "metadata": {},
   "outputs": [],
   "source": [
    "probability_by_tag_indexed_top = probability_by_tag_indexed.sort_values('prob_veracidad', ascending = False)\n",
    "probability_by_tag_indexed_top.head(1)"
   ]
  },
  {
   "cell_type": "code",
   "execution_count": null,
   "metadata": {},
   "outputs": [],
   "source": [
    "#me quedo con los primeros 20 de cata dataframe\n",
    "probability_by_tag_bottom_short = probability_by_tag_indexed_bottom.iloc[0:20,]\n",
    "probability_by_tag_bottom_short.plot(kind='bar',figsize=(15,10), title = 'Probabilidad de veracidad de un tweet dado un tag',\n",
    "                                    fontsize = 20)"
   ]
  },
  {
   "cell_type": "code",
   "execution_count": null,
   "metadata": {},
   "outputs": [],
   "source": [
    "probability_by_tag_top_short = probability_by_tag_indexed_top.iloc[0:20,]\n",
    "probability_by_tag_top_short.plot(kind = 'bar', figsize = (15,10), title = 'Probabilidad de veracidad de un tweet dado un tag',\n",
    "                                 color = 'r', fontsize = 20)"
   ]
  },
  {
   "cell_type": "code",
   "execution_count": null,
   "metadata": {},
   "outputs": [],
   "source": [
    "probability_by_tag_sliced = probability_by_tag.copy()\n",
    "probability_by_tag_sliced['prob_period'] = pd.cut(probability_by_tag['prob_veracidad'], np.arange(0.6,1.1,0.05), right=True)\n",
    "probability_by_tag_sliced = probability_by_tag_sliced.groupby('prob_period').agg({'tag':'count'}).reset_index()\n",
    "probability_by_tag_sliced"
   ]
  },
  {
   "cell_type": "code",
   "execution_count": null,
   "metadata": {},
   "outputs": [],
   "source": []
  },
  {
   "cell_type": "code",
   "execution_count": null,
   "metadata": {},
   "outputs": [],
   "source": [
    "#df_sin_tags = short_train2[short_train2['tags']]\n",
    "short_train_tags = short_train2.drop(columns=['new','new_tokenized'])\n",
    "train_no_tags = short_train_tags[short_train2['tags'].map(lambda d: len(d)) == 0]\n",
    "train_with_tags = short_train_tags[short_train2['tags'].map(lambda d: len(d)) > 0]"
   ]
  },
  {
   "cell_type": "code",
   "execution_count": null,
   "metadata": {},
   "outputs": [],
   "source": [
    "train_no_tags"
   ]
  },
  {
   "cell_type": "code",
   "execution_count": null,
   "metadata": {},
   "outputs": [],
   "source": [
    "train_with_tags"
   ]
  },
  {
   "cell_type": "code",
   "execution_count": null,
   "metadata": {},
   "outputs": [],
   "source": [
    "data_tags = short_train_tags.copy()\n",
    "data_tags['tweets_con_tags'] = train_with_tags['tags']\n",
    "data_tags['tweets_sin_tags'] = train_no_tags['tags']\n",
    "data_tags = data_tags.groupby('target').agg({'tweets_con_tags':['count'],'tweets_sin_tags':['count']}).reset_index()\n",
    "data_tags.columns = ['target','cant_tweets_con_tags', 'cant_tweets_sin_tags']\n",
    "data_tags['target'] = data_tags['target'].astype(str).astype(object)"
   ]
  },
  {
   "cell_type": "code",
   "execution_count": null,
   "metadata": {},
   "outputs": [],
   "source": [
    "sns.set(style=\"whitegrid\")\n",
    "f, ax = plt.subplots(figsize=(10, 3))\n",
    "\n",
    "sns.set_color_codes(\"muted\")\n",
    "sns.barplot(x=\"cant_tweets_con_tags\", y=\"target\", data=data_tags,\n",
    "            label=\"Con tags\", color=\"g\")\n",
    "sns.set_color_codes(\"pastel\")\n",
    "sns.barplot(x=\"cant_tweets_sin_tags\", y=\"target\", data=data_tags,\n",
    "            label=\"Sin tags\", color=sns.xkcd_rgb[\"pale red\"])\n",
    "\n",
    "ax.legend(ncol=2, loc=\"lower right\", frameon=True)\n",
    "ax.set(xlim=(0, 3500), ylabel=\"\",\n",
    "       xlabel=\"Cantidad de tweets\")\n",
    "plt.title(\"Cantidad de tweets con o sin tags segun veracidad\", fontweight= 'bold', fontsize=14)\n",
    "sns.despine(left=True, bottom=True)"
   ]
  },
  {
   "cell_type": "code",
   "execution_count": null,
   "metadata": {},
   "outputs": [],
   "source": [
    "train_with_tags.tags.value_counts().head(10).to_frame()"
   ]
  },
  {
   "cell_type": "code",
   "execution_count": null,
   "metadata": {},
   "outputs": [],
   "source": [
    "def toString(some_list):\n",
    "    s = ','\n",
    "    return s.join(some_list)\n",
    "\n",
    "real_tags = train_with_tags[train_with_tags['target']==True].tags.apply(toString)\n",
    "top10_real_tags = real_tags.value_counts().head(10).to_frame()\n",
    "top10_real_tags\n",
    "# Draw plot\n",
    "fig, ax = plt.subplots(figsize=(14,7), dpi= 80)\n",
    "ax.vlines(x=top10_real_tags.index, ymin=0, ymax=top10_real_tags.tags, color='green', alpha=0.7, linewidth=2)\n",
    "ax.scatter(x=top10_real_tags.index, y=top10_real_tags.tags, s=75, color='green', alpha=0.7)\n",
    "\n",
    "# Title, Label, Ticks and Ylim\n",
    "ax.set_title('Top 10 Tags en Tweets Verdaderos', fontdict={'size':22})\n",
    "ax.set_ylabel('Cantidad de Tweets')\n",
    "ax.set_xticks(top10_real_tags.index)\n",
    "ax.set_xticklabels(top10_real_tags.index, rotation=40, fontdict={'horizontalalignment': 'right', 'size':12})\n",
    "ax.set_ylim(0, 30)\n",
    "\n",
    "# Annotate\n",
    "for row in top10_real_tags.itertuples():\n",
    "    ax.text(row.Index, row.tags+.5, s=round(row.tags, 2), horizontalalignment= 'center', verticalalignment='bottom', fontsize=14)\n",
    "\n",
    "plt.show()"
   ]
  },
  {
   "cell_type": "code",
   "execution_count": null,
   "metadata": {},
   "outputs": [],
   "source": [
    "fake_tags = train_with_tags[train_with_tags['target']==False].tags.apply(toString)\n",
    "top10_fake_tags = fake_tags.value_counts().head(10).to_frame()\n",
    "top10_fake_tags\n",
    "# Draw plot\n",
    "fig, ax = plt.subplots(figsize=(14,7), dpi= 80)\n",
    "ax.vlines(x=top10_fake_tags.index, ymin=0, ymax=top10_fake_tags.tags, color='firebrick', alpha=0.7, linewidth=2)\n",
    "ax.scatter(x=top10_fake_tags.index, y=top10_fake_tags.tags, s=75, color='firebrick', alpha=0.7)\n",
    "\n",
    "# Title, Label, Ticks and Ylim\n",
    "ax.set_title('Top 10 Tags en Tweets Falsos', fontdict={'size':22})\n",
    "ax.set_ylabel('Cantidad de Tweets')\n",
    "ax.set_xticks(top10_fake_tags.index)\n",
    "#ax.set_xticklabels(top10_real_tags.keyword.str.upper(), rotation=60, fontdict={'horizontalalignment': 'right', 'size':12})\n",
    "ax.set_ylim(0, 30)\n",
    "\n",
    "# Annotate\n",
    "for row in top10_fake_tags.itertuples():\n",
    "    ax.text(row.Index, row.tags+.5, s=round(row.tags, 2), horizontalalignment= 'center', verticalalignment='bottom', fontsize=14)\n",
    "\n",
    "plt.show()"
   ]
  },
  {
   "cell_type": "code",
   "execution_count": null,
   "metadata": {},
   "outputs": [],
   "source": [
    "#relacion entre cantidad de tags y veracidad tweet\n",
    "short_train_tags['cant_tags'] = short_train_tags['tags'].apply(lambda x: len(x))\n",
    "short_train_tags"
   ]
  },
  {
   "cell_type": "code",
   "execution_count": null,
   "metadata": {},
   "outputs": [],
   "source": [
    "def get_df_cant_tags(df):\n",
    "    \n",
    "    dict_tag = {}\n",
    "    for lista in df[\"tags\"]:\n",
    "        if (len(lista)>=1):\n",
    "            if(len(lista) in dict_tag):\n",
    "                dict_tag[len(lista)] += 1\n",
    "            else:\n",
    "                dict_tag[len(lista)] = 1\n",
    "    \n",
    "    df_tags_ranking = pd.DataFrame.from_dict(dict_tag, orient =\"index\")\n",
    "    df_tags_ranking.columns = ['cant']\n",
    "    df_tags_ranking.sort_values(\"cant\", ascending = False, inplace =True)\n",
    "    \n",
    "    return df_tags_ranking"
   ]
  },
  {
   "cell_type": "code",
   "execution_count": null,
   "metadata": {},
   "outputs": [],
   "source": [
    "cant_sin_tags= short_train_tags[short_train_tags['cant_tags'] == 0].target.value_counts()\n",
    "\n",
    "df_tags_only = short_train_tags[short_train_tags['cant_tags'] != 0]\n",
    "\n",
    "df_tags_real = df_tags_only.loc[short_train_tags['target'] == True]\n",
    "df_tags_falso = df_tags_only.loc[short_train_tags['target'] == False]\n",
    "\n",
    "df_tags_ranking_real = get_df_cant_tags(df_tags_real)\n",
    "df_tags_ranking_falso = get_df_cant_tags(df_tags_falso)\n",
    "\n",
    "cant_tags_falso = df_tags_ranking_falso[\"cant\"].values.tolist()\n",
    "cant_tags_real  = df_tags_ranking_real[\"cant\"].values.tolist()\n",
    "\n",
    "cant_tags_falsos_l =  [cant_sin_tags[0]]+cant_tags_falso[:6]\\\n",
    "                            + [sum(cant_tags_falso[6:])]\n",
    "cant_tags_real_l = [cant_sin_tags[1]]+cant_tags_real[:6]\\\n",
    "                            + [sum(cant_tags_real[6:])]"
   ]
  },
  {
   "cell_type": "code",
   "execution_count": null,
   "metadata": {},
   "outputs": [],
   "source": [
    "fig,ax1 = plt.subplots(1, 1, figsize=(12, 12))\n",
    "\n",
    "barWidth = 0.3\n",
    "\n",
    "r1 = np.arange(len(cant_tags_falsos_l))\n",
    "r2 = [x + barWidth for x in r1]\n",
    " \n",
    "plt.bar(r1, cant_tags_falsos_l, color='#B22222', width=barWidth, edgecolor='white', label='tweets falsos')\n",
    "plt.bar(r2, cant_tags_real_l, color='#557f2d', width=barWidth, edgecolor='white', label='tweets verdaderos')\n",
    " \n",
    "plt.xlabel('cantidad de tags')\n",
    "plt.xticks([r + barWidth for r in range(len(cant_tags_falsos_l))], ['0', '1', '2', '3', '4', '5', '6', '7 o más'])\n",
    "\n",
    "plt.ylabel('cantidad de tweets')\n",
    "plt.yticks(range(0,2000,100))\n",
    "\n",
    "plt.title(\"Cantidad de tweets con cierta cantidad de tags\", fontweight = \"bold\", fontsize=16)\n",
    "\n",
    "plt.legend()\n",
    "plt.show()"
   ]
  },
  {
   "cell_type": "code",
   "execution_count": null,
   "metadata": {},
   "outputs": [],
   "source": []
  },
  {
   "cell_type": "code",
   "execution_count": null,
   "metadata": {},
   "outputs": [],
   "source": []
  },
  {
   "cell_type": "code",
   "execution_count": null,
   "metadata": {},
   "outputs": [],
   "source": []
  }
 ],
 "metadata": {
  "kernelspec": {
   "display_name": "Python 3",
   "language": "python",
   "name": "python3"
  },
  "language_info": {
   "codemirror_mode": {
    "name": "ipython",
    "version": 3
   },
   "file_extension": ".py",
   "mimetype": "text/x-python",
   "name": "python",
   "nbconvert_exporter": "python",
   "pygments_lexer": "ipython3",
   "version": "3.6.10"
  }
 },
 "nbformat": 4,
 "nbformat_minor": 2
}
