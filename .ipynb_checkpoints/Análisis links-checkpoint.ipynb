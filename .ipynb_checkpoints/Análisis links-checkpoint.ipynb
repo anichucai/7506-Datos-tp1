{
 "cells": [
  {
   "cell_type": "code",
   "execution_count": 1,
   "metadata": {},
   "outputs": [],
   "source": [
    "import pandas as pd\n",
    "\n",
    "import requests"
   ]
  },
  {
   "cell_type": "code",
   "execution_count": 2,
   "metadata": {},
   "outputs": [],
   "source": [
    "#Cargo archivo train\n",
    "\n",
    "df_tweet_link = pd.read_csv(\"data/train.csv\", usecols=[\"id\",\"text\"])"
   ]
  },
  {
   "cell_type": "code",
   "execution_count": 3,
   "metadata": {},
   "outputs": [],
   "source": [
    "#Funciones aux: sevuelve lista de links en un texto\n",
    "\n",
    "def get_link(tweet):\n",
    "    res =[]\n",
    "    for w in tweet.split(' '):\n",
    "        if (\"http\" in w) or (\"https\" in w):\n",
    "            pos = w.find('http') \n",
    "            res.append(w[pos:])\n",
    "    return res"
   ]
  },
  {
   "cell_type": "code",
   "execution_count": 4,
   "metadata": {},
   "outputs": [],
   "source": [
    "# Creo una columna con listas de links\n",
    "df_tweet_link['links'] = df_tweet_link['text'].apply(lambda x: get_link(x))\n",
    "\n",
    "# Creo una columna con la cantidad de tweets\n",
    "df_tweet_link['links_cant']= df_tweet_link['links'].apply(lambda x: len(x))"
   ]
  },
  {
   "cell_type": "code",
   "execution_count": 5,
   "metadata": {},
   "outputs": [],
   "source": [
    "# Quito los tweets sin links\n",
    "df_tweet_link = df_tweet_link[df_tweet_link.links_cant != 0]"
   ]
  },
  {
   "cell_type": "code",
   "execution_count": 21,
   "metadata": {
    "scrolled": true
   },
   "outputs": [
    {
     "data": {
      "text/html": [
       "<div>\n",
       "<style scoped>\n",
       "    .dataframe tbody tr th:only-of-type {\n",
       "        vertical-align: middle;\n",
       "    }\n",
       "\n",
       "    .dataframe tbody tr th {\n",
       "        vertical-align: top;\n",
       "    }\n",
       "\n",
       "    .dataframe thead th {\n",
       "        text-align: right;\n",
       "    }\n",
       "</style>\n",
       "<table border=\"1\" class=\"dataframe\">\n",
       "  <thead>\n",
       "    <tr style=\"text-align: right;\">\n",
       "      <th></th>\n",
       "      <th>id</th>\n",
       "      <th>text</th>\n",
       "      <th>links</th>\n",
       "      <th>links_cant</th>\n",
       "    </tr>\n",
       "  </thead>\n",
       "  <tbody>\n",
       "    <tr>\n",
       "      <th>31</th>\n",
       "      <td>48</td>\n",
       "      <td>@bbcmtd Wholesale Markets ablaze http://t.co/l...</td>\n",
       "      <td>[http://t.co/lHYXEOHY6C]</td>\n",
       "      <td>1</td>\n",
       "    </tr>\n",
       "    <tr>\n",
       "      <th>32</th>\n",
       "      <td>49</td>\n",
       "      <td>We always try to bring the heavy. #metal #RT h...</td>\n",
       "      <td>[http://t.co/YAo1e0xngw]</td>\n",
       "      <td>1</td>\n",
       "    </tr>\n",
       "    <tr>\n",
       "      <th>33</th>\n",
       "      <td>50</td>\n",
       "      <td>#AFRICANBAZE: Breaking news:Nigeria flag set a...</td>\n",
       "      <td>[http://t.co/2nndBGwyEi]</td>\n",
       "      <td>1</td>\n",
       "    </tr>\n",
       "    <tr>\n",
       "      <th>35</th>\n",
       "      <td>53</td>\n",
       "      <td>On plus side LOOK AT THE SKY LAST NIGHT IT WAS...</td>\n",
       "      <td>[http://t.co/qqsmshaJ3N]</td>\n",
       "      <td>1</td>\n",
       "    </tr>\n",
       "    <tr>\n",
       "      <th>37</th>\n",
       "      <td>55</td>\n",
       "      <td>INEC Office in Abia Set Ablaze - http://t.co/3...</td>\n",
       "      <td>[http://t.co/3ImaomknnA]</td>\n",
       "      <td>1</td>\n",
       "    </tr>\n",
       "  </tbody>\n",
       "</table>\n",
       "</div>"
      ],
      "text/plain": [
       "    id                                               text  \\\n",
       "31  48  @bbcmtd Wholesale Markets ablaze http://t.co/l...   \n",
       "32  49  We always try to bring the heavy. #metal #RT h...   \n",
       "33  50  #AFRICANBAZE: Breaking news:Nigeria flag set a...   \n",
       "35  53  On plus side LOOK AT THE SKY LAST NIGHT IT WAS...   \n",
       "37  55  INEC Office in Abia Set Ablaze - http://t.co/3...   \n",
       "\n",
       "                       links  links_cant  \n",
       "31  [http://t.co/lHYXEOHY6C]           1  \n",
       "32  [http://t.co/YAo1e0xngw]           1  \n",
       "33  [http://t.co/2nndBGwyEi]           1  \n",
       "35  [http://t.co/qqsmshaJ3N]           1  \n",
       "37  [http://t.co/3ImaomknnA]           1  "
      ]
     },
     "execution_count": 21,
     "metadata": {},
     "output_type": "execute_result"
    }
   ],
   "source": [
    "df_tweet_link.head()"
   ]
  },
  {
   "cell_type": "code",
   "execution_count": 14,
   "metadata": {},
   "outputs": [],
   "source": [
    "# Creo una columna con listas de links\n",
    "df_id['links'] = df_id['text'].apply(lambda x: get_link(x))\n",
    "\n",
    "# Creo una columna con la cantidad de tweets\n",
    "df_id['links_cant']= df_id['links'].apply(lambda x: len(x))\n",
    "\n",
    "# Quito los tweets sin links\n",
    "df_id = df_id[df_id.links_cant != 0]"
   ]
  },
  {
   "cell_type": "code",
   "execution_count": null,
   "metadata": {},
   "outputs": [],
   "source": [
    "def chase_redirects(url,n):\n",
    "    try:\n",
    "        r = requests.head(url,timeout=n)\n",
    "        if 300 < r.status_code < 400:\n",
    "            url = r.headers['location']\n",
    "            return chase_redirects(url)\n",
    "        else:\n",
    "            return url\n",
    "    except Exception as e:\n",
    "        return None\n",
    "    \n",
    "def get_links(links):\n",
    "    \n",
    "    res = []\n",
    "    for l in links:\n",
    "        res.append(chase_redirects(l,5))    \n",
    "    return res"
   ]
  },
  {
   "cell_type": "code",
   "execution_count": null,
   "metadata": {},
   "outputs": [],
   "source": [
    "# obtengo el url\n",
    "# df_tweet_link['http'] = df_tweet_link['links'].apply(lambda x: get_links(x))"
   ]
  },
  {
   "cell_type": "code",
   "execution_count": 9,
   "metadata": {},
   "outputs": [],
   "source": [
    "#Guardo en csv\n",
    "\n",
    "#df_tweet_link.to_csv('links.csv', index=False)"
   ]
  }
 ],
 "metadata": {
  "kernelspec": {
   "display_name": "Python 3",
   "language": "python",
   "name": "python3"
  },
  "language_info": {
   "codemirror_mode": {
    "name": "ipython",
    "version": 3
   },
   "file_extension": ".py",
   "mimetype": "text/x-python",
   "name": "python",
   "nbconvert_exporter": "python",
   "pygments_lexer": "ipython3",
   "version": "3.6.10"
  }
 },
 "nbformat": 4,
 "nbformat_minor": 4
}
