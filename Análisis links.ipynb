{
 "cells": [
  {
   "cell_type": "code",
   "execution_count": 4,
   "metadata": {},
   "outputs": [],
   "source": [
    "import pandas as pd\n",
    "\n",
    "import json\n",
    "import numpy as np\n",
    "import datetime as dt\n",
    "\n",
    "import matplotlib\n",
    "import matplotlib.pyplot as plt\n",
    "\n",
    "%matplotlib inline\n",
    "\n",
    "import urllib3\n"
   ]
  },
  {
   "cell_type": "code",
   "execution_count": 5,
   "metadata": {},
   "outputs": [],
   "source": [
    "dtype_train = {\"id\": np.int32, \"keyword\": \"category\", \"target\" : bool}\n",
    "train = pd.read_csv(\"train.csv\", dtype = dtype_train)"
   ]
  },
  {
   "cell_type": "code",
   "execution_count": 30,
   "metadata": {},
   "outputs": [],
   "source": [
    "df_tweet_link = train[[\"text\",\"target\"]].copy()"
   ]
  },
  {
   "cell_type": "code",
   "execution_count": 35,
   "metadata": {},
   "outputs": [],
   "source": [
    "def get_link(tweet):\n",
    "    res =[]\n",
    "    for w in tweet.split(' '):\n",
    "        if (\"http\" in w) or (\"https\" in w):\n",
    "            res.append(w)\n",
    "    return (' ').join(res)\n",
    "\n",
    "def len_link(links):\n",
    "    if links==\"\":\n",
    "        return 0\n",
    "    return len(links.split(\" \"))"
   ]
  },
  {
   "cell_type": "code",
   "execution_count": 36,
   "metadata": {},
   "outputs": [],
   "source": [
    "df_tweet_link['link'] = df_tweet_link['text'].apply(lambda x: get_link(x))"
   ]
  },
  {
   "cell_type": "code",
   "execution_count": 37,
   "metadata": {},
   "outputs": [],
   "source": [
    "df_tweet_link['link_cant']= df_tweet_link['link'].apply(lambda x: len_link(x))"
   ]
  },
  {
   "cell_type": "code",
   "execution_count": 40,
   "metadata": {},
   "outputs": [],
   "source": [
    "df_tweet_link = df_tweet_link[df_tweet_link.link_cant != 0]"
   ]
  },
  {
   "cell_type": "code",
   "execution_count": 56,
   "metadata": {},
   "outputs": [
    {
     "data": {
      "text/plain": [
       "<function TextIOWrapper.close()>"
      ]
     },
     "execution_count": 56,
     "metadata": {},
     "output_type": "execute_result"
    }
   ],
   "source": [
    "text = []\n",
    "file = open('url_tweets.txt', \"r\")\n",
    "for l in file:\n",
    "    text.append(l[:-1])\n",
    "file.close"
   ]
  },
  {
   "cell_type": "code",
   "execution_count": 98,
   "metadata": {},
   "outputs": [
    {
     "name": "stderr",
     "output_type": "stream",
     "text": [
      "/home/anichu/Programs/anaconda3/lib/python3.6/site-packages/ipykernel_launcher.py:1: DeprecationWarning: The default dtype for empty Series will be 'object' instead of 'float64' in a future version. Specify a dtype explicitly to silence this warning.\n",
      "  \"\"\"Entry point for launching an IPython kernel.\n",
      "/home/anichu/Programs/anaconda3/lib/python3.6/site-packages/ipykernel_launcher.py:1: SettingWithCopyWarning: \n",
      "A value is trying to be set on a copy of a slice from a DataFrame.\n",
      "Try using .loc[row_indexer,col_indexer] = value instead\n",
      "\n",
      "See the caveats in the documentation: https://pandas.pydata.org/pandas-docs/stable/user_guide/indexing.html#returning-a-view-versus-a-copy\n",
      "  \"\"\"Entry point for launching an IPython kernel.\n"
     ]
    },
    {
     "data": {
      "text/plain": [
       "[]"
      ]
     },
     "execution_count": 98,
     "metadata": {},
     "output_type": "execute_result"
    }
   ],
   "source": [
    "df_tweet_link['url'] = pd.Series()\n",
    "\n",
    "res = []\n",
    "i = 0\n",
    "b = 0\n",
    "f = 0\n",
    "\n",
    "for cant in df_tweet_link['link_cant']:\n",
    "    links = []\n",
    "    if(f+cant<1702):\n",
    "        break\n",
    "    f += cant\n",
    "    links = text[i:f]\n",
    "    b+= cant\n",
    "    res.append((\" \").join(links))\n",
    "\n",
    "res"
   ]
  },
  {
   "cell_type": "code",
   "execution_count": 91,
   "metadata": {},
   "outputs": [
    {
     "data": {
      "text/html": [
       "<div>\n",
       "<style scoped>\n",
       "    .dataframe tbody tr th:only-of-type {\n",
       "        vertical-align: middle;\n",
       "    }\n",
       "\n",
       "    .dataframe tbody tr th {\n",
       "        vertical-align: top;\n",
       "    }\n",
       "\n",
       "    .dataframe thead th {\n",
       "        text-align: right;\n",
       "    }\n",
       "</style>\n",
       "<table border=\"1\" class=\"dataframe\">\n",
       "  <thead>\n",
       "    <tr style=\"text-align: right;\">\n",
       "      <th></th>\n",
       "      <th>text</th>\n",
       "      <th>target</th>\n",
       "      <th>link</th>\n",
       "      <th>link_cant</th>\n",
       "      <th>url</th>\n",
       "    </tr>\n",
       "  </thead>\n",
       "  <tbody>\n",
       "    <tr>\n",
       "      <th>31</th>\n",
       "      <td>@bbcmtd Wholesale Markets ablaze http://t.co/l...</td>\n",
       "      <td>True</td>\n",
       "      <td>http://t.co/lHYXEOHY6C</td>\n",
       "      <td>1</td>\n",
       "      <td>https://twitter.com/dannypurewal/status/629284...</td>\n",
       "    </tr>\n",
       "    <tr>\n",
       "      <th>32</th>\n",
       "      <td>We always try to bring the heavy. #metal #RT h...</td>\n",
       "      <td>False</td>\n",
       "      <td>http://t.co/YAo1e0xngw</td>\n",
       "      <td>1</td>\n",
       "      <td>https://twitter.com/dannypurewal/status/629284...</td>\n",
       "    </tr>\n",
       "    <tr>\n",
       "      <th>33</th>\n",
       "      <td>#AFRICANBAZE: Breaking news:Nigeria flag set a...</td>\n",
       "      <td>True</td>\n",
       "      <td>http://t.co/2nndBGwyEi</td>\n",
       "      <td>1</td>\n",
       "      <td>https://twitter.com/dannypurewal/status/629284...</td>\n",
       "    </tr>\n",
       "    <tr>\n",
       "      <th>35</th>\n",
       "      <td>On plus side LOOK AT THE SKY LAST NIGHT IT WAS...</td>\n",
       "      <td>False</td>\n",
       "      <td>http://t.co/qqsmshaJ3N</td>\n",
       "      <td>1</td>\n",
       "      <td>https://twitter.com/dannypurewal/status/629284...</td>\n",
       "    </tr>\n",
       "    <tr>\n",
       "      <th>37</th>\n",
       "      <td>INEC Office in Abia Set Ablaze - http://t.co/3...</td>\n",
       "      <td>True</td>\n",
       "      <td>http://t.co/3ImaomknnA</td>\n",
       "      <td>1</td>\n",
       "      <td>https://twitter.com/dannypurewal/status/629284...</td>\n",
       "    </tr>\n",
       "  </tbody>\n",
       "</table>\n",
       "</div>"
      ],
      "text/plain": [
       "                                                 text  target  \\\n",
       "31  @bbcmtd Wholesale Markets ablaze http://t.co/l...    True   \n",
       "32  We always try to bring the heavy. #metal #RT h...   False   \n",
       "33  #AFRICANBAZE: Breaking news:Nigeria flag set a...    True   \n",
       "35  On plus side LOOK AT THE SKY LAST NIGHT IT WAS...   False   \n",
       "37  INEC Office in Abia Set Ablaze - http://t.co/3...    True   \n",
       "\n",
       "                      link  link_cant  \\\n",
       "31  http://t.co/lHYXEOHY6C          1   \n",
       "32  http://t.co/YAo1e0xngw          1   \n",
       "33  http://t.co/2nndBGwyEi          1   \n",
       "35  http://t.co/qqsmshaJ3N          1   \n",
       "37  http://t.co/3ImaomknnA          1   \n",
       "\n",
       "                                                  url  \n",
       "31  https://twitter.com/dannypurewal/status/629284...  \n",
       "32  https://twitter.com/dannypurewal/status/629284...  \n",
       "33  https://twitter.com/dannypurewal/status/629284...  \n",
       "35  https://twitter.com/dannypurewal/status/629284...  \n",
       "37  https://twitter.com/dannypurewal/status/629284...  "
      ]
     },
     "execution_count": 91,
     "metadata": {},
     "output_type": "execute_result"
    }
   ],
   "source": [
    "df_tweet_link.head(5)"
   ]
  },
  {
   "cell_type": "code",
   "execution_count": 9,
   "metadata": {},
   "outputs": [],
   "source": [
    "# recibe un tweet y devuelve una cadena con los links a donde apuntas los shortened URL separados con una coma\n",
    "\n",
    "def csv_of_shorturl(text):\n",
    "    res = []\n",
    "    servidor ='http://t.co' #esel servidor de twitter\n",
    "    tweet = text.replace(\"\\n\",' ').replace(\";\",' ')\n",
    "            \n",
    "    for w in tweet.split(\" \"):\n",
    "        if (servidor in w):\n",
    "            res.append(w)\n",
    "    return (\" \").join(res)"
   ]
  },
  {
   "cell_type": "code",
   "execution_count": 5,
   "metadata": {
    "scrolled": true
   },
   "outputs": [
    {
     "name": "stderr",
     "output_type": "stream",
     "text": [
      "/home/anichu/Programs/anaconda3/lib/python3.6/site-packages/ipykernel_launcher.py:1: SettingWithCopyWarning: \n",
      "A value is trying to be set on a copy of a slice from a DataFrame.\n",
      "Try using .loc[row_indexer,col_indexer] = value instead\n",
      "\n",
      "See the caveats in the documentation: https://pandas.pydata.org/pandas-docs/stable/user_guide/indexing.html#returning-a-view-versus-a-copy\n",
      "  \"\"\"Entry point for launching an IPython kernel.\n"
     ]
    }
   ],
   "source": [
    "df_tweet_link['links'] = df_tweet_link['text'].apply(csv_of_shorturl)"
   ]
  },
  {
   "cell_type": "code",
   "execution_count": 6,
   "metadata": {},
   "outputs": [],
   "source": [
    "def convert_url(short_url):\n",
    "    res = \"\"\n",
    "    for l in short_url.split(\" \"):\n",
    "        try:\n",
    "            res = urllib3.urlopen(l).urlgeturl()\n",
    "            print(res)\n",
    "        except:\n",
    "            pass\n",
    "    return res"
   ]
  },
  {
   "cell_type": "code",
   "execution_count": 7,
   "metadata": {},
   "outputs": [],
   "source": [
    "df_tweet_link = df_tweet_link[df_tweet_link[\"links\"]!=\"\"]"
   ]
  },
  {
   "cell_type": "code",
   "execution_count": 8,
   "metadata": {},
   "outputs": [
    {
     "data": {
      "text/plain": [
       "'http://t.co/lHYXEOHY6C'"
      ]
     },
     "execution_count": 8,
     "metadata": {},
     "output_type": "execute_result"
    }
   ],
   "source": [
    "short_url = df_tweet_link[\"links\"][31]\n",
    "short_url"
   ]
  },
  {
   "cell_type": "code",
   "execution_count": 9,
   "metadata": {
    "scrolled": true
   },
   "outputs": [],
   "source": [
    "http = urllib3.PoolManager()"
   ]
  },
  {
   "cell_type": "code",
   "execution_count": 10,
   "metadata": {},
   "outputs": [],
   "source": [
    "res = {}\n",
    "def get_url(links):\n",
    "    res = []\n",
    "    url = \"\"\n",
    "    for link in links.split(\" \"):\n",
    "        try:\n",
    "            res[link] = http.request('GET', link)\n",
    "            print(res[link].data)\n",
    "        except:\n",
    "            url = \"\"\n",
    "        res.append(url)\n",
    "    return url"
   ]
  },
  {
   "cell_type": "code",
   "execution_count": 25,
   "metadata": {},
   "outputs": [],
   "source": [
    "tot = 0\n",
    "i = 0 \n",
    "for w in df_tweet_link['links']:\n",
    "    if (tot==1702):\n",
    "        break\n",
    "    tot += len(w.split(\" \"))\n",
    "    i+=1"
   ]
  },
  {
   "cell_type": "code",
   "execution_count": 26,
   "metadata": {},
   "outputs": [
    {
     "data": {
      "text/plain": [
       "1416"
      ]
     },
     "execution_count": 26,
     "metadata": {},
     "output_type": "execute_result"
    }
   ],
   "source": [
    "i"
   ]
  },
  {
   "cell_type": "code",
   "execution_count": 12,
   "metadata": {
    "scrolled": false
   },
   "outputs": [],
   "source": [
    "#df_tweet_link['links'].apply(get_url)"
   ]
  },
  {
   "cell_type": "code",
   "execution_count": 13,
   "metadata": {},
   "outputs": [],
   "source": [
    "# Guardo el dataframe porque se tarda mucho en calcularlo. Así, sólo lo consigo una vez.\n",
    "#df_tweet_link.to_csv(\"df_tweet_link.csv\") "
   ]
  }
 ],
 "metadata": {
  "kernelspec": {
   "display_name": "Python 3",
   "language": "python",
   "name": "python3"
  },
  "language_info": {
   "codemirror_mode": {
    "name": "ipython",
    "version": 3
   },
   "file_extension": ".py",
   "mimetype": "text/x-python",
   "name": "python",
   "nbconvert_exporter": "python",
   "pygments_lexer": "ipython3",
   "version": "3.6.10"
  }
 },
 "nbformat": 4,
 "nbformat_minor": 4
}
